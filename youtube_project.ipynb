{
  "nbformat": 4,
  "nbformat_minor": 0,
  "metadata": {
    "colab": {
      "name": "youtube_project.ipynb",
      "provenance": [],
      "collapsed_sections": []
    },
    "kernelspec": {
      "name": "python3",
      "display_name": "Python 3"
    },
    "language_info": {
      "name": "python"
    }
  },
  "cells": [
    {
      "cell_type": "markdown",
      "source": [
        "________________________________________________________________________________\n",
        "**Import required libraries and modules**\n",
        "________________________________________________________________________________\n"
      ],
      "metadata": {
        "id": "N6dUeXMtEOiX"
      }
    },
    {
      "cell_type": "code",
      "execution_count": 52,
      "metadata": {
        "id": "GyehBzUREAYT"
      },
      "outputs": [],
      "source": [
        "import pandas as pd\n",
        "import numpy as np\n",
        "import xgboost as xgb\n",
        "import matplotlib.pyplot as plt\n",
        "import seaborn as sns\n",
        "from sklearn.metrics import accuracy_score\n",
        "from xgboost import XGBRegressor\n",
        "from sklearn.model_selection import train_test_split\n",
        "from sklearn.metrics import mean_squared_error,mean_absolute_error, r2_score\n",
        "from sklearn import preprocessing\n",
        "from datetime import datetime\n",
        "from sklearn import preprocessing\n",
        "from sklearn.linear_model import LinearRegression, Lasso, Ridge\n",
        "from sklearn.model_selection import train_test_split\n",
        "from sklearn.metrics import accuracy_score\n",
        "from sklearn.ensemble import RandomForestClassifier"
      ]
    },
    {
      "cell_type": "markdown",
      "source": [
        "________________________________________________________________________________\n",
        "**Read the data**\n",
        "________________________________________________________________________________\n"
      ],
      "metadata": {
        "id": "7DIGJki9EjpX"
      }
    },
    {
      "cell_type": "code",
      "source": [
        "train = pd.read_parquet('/content/train.parquet')\n",
        "test = pd.read_parquet('/content/test.parquet')"
      ],
      "metadata": {
        "id": "L3fTDjzQEoNZ"
      },
      "execution_count": 53,
      "outputs": []
    },
    {
      "cell_type": "code",
      "source": [
        "train.head()"
      ],
      "metadata": {
        "colab": {
          "base_uri": "https://localhost:8080/",
          "height": 531
        },
        "id": "pPYvY3i7E0Ro",
        "outputId": "6e49d13d-5908-4ab0-d65e-46be7b96a32b"
      },
      "execution_count": 54,
      "outputs": [
        {
          "output_type": "execute_result",
          "data": {
            "text/html": [
              "\n",
              "  <div id=\"df-05e97c78-d1f6-4494-bbb6-4f04b2a8bc00\">\n",
              "    <div class=\"colab-df-container\">\n",
              "      <div>\n",
              "<style scoped>\n",
              "    .dataframe tbody tr th:only-of-type {\n",
              "        vertical-align: middle;\n",
              "    }\n",
              "\n",
              "    .dataframe tbody tr th {\n",
              "        vertical-align: top;\n",
              "    }\n",
              "\n",
              "    .dataframe thead th {\n",
              "        text-align: right;\n",
              "    }\n",
              "</style>\n",
              "<table border=\"1\" class=\"dataframe\">\n",
              "  <thead>\n",
              "    <tr style=\"text-align: right;\">\n",
              "      <th></th>\n",
              "      <th>video_id</th>\n",
              "      <th>title</th>\n",
              "      <th>publishedAt</th>\n",
              "      <th>channelId</th>\n",
              "      <th>channelTitle</th>\n",
              "      <th>categoryId</th>\n",
              "      <th>trending_date</th>\n",
              "      <th>tags</th>\n",
              "      <th>view_count</th>\n",
              "      <th>likes</th>\n",
              "      <th>dislikes</th>\n",
              "      <th>comment_count</th>\n",
              "      <th>thumbnail_link</th>\n",
              "      <th>comments_disabled</th>\n",
              "      <th>ratings_disabled</th>\n",
              "      <th>description</th>\n",
              "      <th>id</th>\n",
              "      <th>duration_seconds</th>\n",
              "      <th>has_thumbnail</th>\n",
              "      <th>target</th>\n",
              "    </tr>\n",
              "  </thead>\n",
              "  <tbody>\n",
              "    <tr>\n",
              "      <th>0</th>\n",
              "      <td>3C66w5Z0ixs</td>\n",
              "      <td>I ASKED HER TO BE MY GIRLFRIEND...</td>\n",
              "      <td>2020-08-11 19:20:14+00:00</td>\n",
              "      <td>UCvtRTOMP2TqYqu51xNrqAzg</td>\n",
              "      <td>Brawadis</td>\n",
              "      <td>22</td>\n",
              "      <td>2020-08-12</td>\n",
              "      <td>brawadis|prank|basketball|skits|ghost|funny vi...</td>\n",
              "      <td>1514614</td>\n",
              "      <td>156908</td>\n",
              "      <td>5855</td>\n",
              "      <td>35313</td>\n",
              "      <td>https://i.ytimg.com/vi/3C66w5Z0ixs/default.jpg</td>\n",
              "      <td>False</td>\n",
              "      <td>False</td>\n",
              "      <td>SUBSCRIBE to BRAWADIS ▶ http://bit.ly/Subscrib...</td>\n",
              "      <td>3C66w5Z0ixs_2020-08-12</td>\n",
              "      <td>NaN</td>\n",
              "      <td>True</td>\n",
              "      <td>0.103596</td>\n",
              "    </tr>\n",
              "    <tr>\n",
              "      <th>1</th>\n",
              "      <td>M9Pmf9AB4Mo</td>\n",
              "      <td>Apex Legends | Stories from the Outlands – “Th...</td>\n",
              "      <td>2020-08-11 17:00:10+00:00</td>\n",
              "      <td>UC0ZV6M2THA81QT9hrVWJG3A</td>\n",
              "      <td>Apex Legends</td>\n",
              "      <td>20</td>\n",
              "      <td>2020-08-12</td>\n",
              "      <td>Apex Legends|Apex Legends characters|new Apex ...</td>\n",
              "      <td>2381688</td>\n",
              "      <td>146739</td>\n",
              "      <td>2794</td>\n",
              "      <td>16549</td>\n",
              "      <td>https://i.ytimg.com/vi/M9Pmf9AB4Mo/default.jpg</td>\n",
              "      <td>False</td>\n",
              "      <td>False</td>\n",
              "      <td>While running her own modding shop, Ramya Pare...</td>\n",
              "      <td>M9Pmf9AB4Mo_2020-08-12</td>\n",
              "      <td>NaN</td>\n",
              "      <td>True</td>\n",
              "      <td>0.061611</td>\n",
              "    </tr>\n",
              "    <tr>\n",
              "      <th>2</th>\n",
              "      <td>J78aPJ3VyNs</td>\n",
              "      <td>I left youtube for a month and THIS is what ha...</td>\n",
              "      <td>2020-08-11 16:34:06+00:00</td>\n",
              "      <td>UCYzPXprvl5Y-Sf0g4vX-m6g</td>\n",
              "      <td>jacksepticeye</td>\n",
              "      <td>24</td>\n",
              "      <td>2020-08-12</td>\n",
              "      <td>jacksepticeye|funny|funny meme|memes|jacksepti...</td>\n",
              "      <td>2038853</td>\n",
              "      <td>353787</td>\n",
              "      <td>2628</td>\n",
              "      <td>40221</td>\n",
              "      <td>https://i.ytimg.com/vi/J78aPJ3VyNs/default.jpg</td>\n",
              "      <td>False</td>\n",
              "      <td>False</td>\n",
              "      <td>I left youtube for a month and this is what ha...</td>\n",
              "      <td>J78aPJ3VyNs_2020-08-12</td>\n",
              "      <td>NaN</td>\n",
              "      <td>True</td>\n",
              "      <td>0.173523</td>\n",
              "    </tr>\n",
              "    <tr>\n",
              "      <th>3</th>\n",
              "      <td>kXLn3HkpjaA</td>\n",
              "      <td>XXL 2020 Freshman Class Revealed - Official An...</td>\n",
              "      <td>2020-08-11 16:38:55+00:00</td>\n",
              "      <td>UCbg_UMjlHJg_19SZckaKajg</td>\n",
              "      <td>XXL</td>\n",
              "      <td>10</td>\n",
              "      <td>2020-08-12</td>\n",
              "      <td>xxl freshman|xxl freshmen|2020 xxl freshman|20...</td>\n",
              "      <td>496771</td>\n",
              "      <td>23251</td>\n",
              "      <td>1856</td>\n",
              "      <td>7647</td>\n",
              "      <td>https://i.ytimg.com/vi/kXLn3HkpjaA/default.jpg</td>\n",
              "      <td>False</td>\n",
              "      <td>False</td>\n",
              "      <td>Subscribe to XXL → http://bit.ly/subscribe-xxl...</td>\n",
              "      <td>kXLn3HkpjaA_2020-08-12</td>\n",
              "      <td>NaN</td>\n",
              "      <td>True</td>\n",
              "      <td>0.046804</td>\n",
              "    </tr>\n",
              "    <tr>\n",
              "      <th>4</th>\n",
              "      <td>VIUo6yapDbc</td>\n",
              "      <td>Ultimate DIY Home Movie Theater for The LaBran...</td>\n",
              "      <td>2020-08-11 15:10:05+00:00</td>\n",
              "      <td>UCDVPcEbVLQgLZX0Rt6jo34A</td>\n",
              "      <td>Mr. Kate</td>\n",
              "      <td>26</td>\n",
              "      <td>2020-08-12</td>\n",
              "      <td>The LaBrant Family|DIY|Interior Design|Makeove...</td>\n",
              "      <td>1123889</td>\n",
              "      <td>45802</td>\n",
              "      <td>964</td>\n",
              "      <td>2196</td>\n",
              "      <td>https://i.ytimg.com/vi/VIUo6yapDbc/default.jpg</td>\n",
              "      <td>False</td>\n",
              "      <td>False</td>\n",
              "      <td>Transforming The LaBrant Family's empty white ...</td>\n",
              "      <td>VIUo6yapDbc_2020-08-12</td>\n",
              "      <td>NaN</td>\n",
              "      <td>True</td>\n",
              "      <td>0.040753</td>\n",
              "    </tr>\n",
              "  </tbody>\n",
              "</table>\n",
              "</div>\n",
              "      <button class=\"colab-df-convert\" onclick=\"convertToInteractive('df-05e97c78-d1f6-4494-bbb6-4f04b2a8bc00')\"\n",
              "              title=\"Convert this dataframe to an interactive table.\"\n",
              "              style=\"display:none;\">\n",
              "        \n",
              "  <svg xmlns=\"http://www.w3.org/2000/svg\" height=\"24px\"viewBox=\"0 0 24 24\"\n",
              "       width=\"24px\">\n",
              "    <path d=\"M0 0h24v24H0V0z\" fill=\"none\"/>\n",
              "    <path d=\"M18.56 5.44l.94 2.06.94-2.06 2.06-.94-2.06-.94-.94-2.06-.94 2.06-2.06.94zm-11 1L8.5 8.5l.94-2.06 2.06-.94-2.06-.94L8.5 2.5l-.94 2.06-2.06.94zm10 10l.94 2.06.94-2.06 2.06-.94-2.06-.94-.94-2.06-.94 2.06-2.06.94z\"/><path d=\"M17.41 7.96l-1.37-1.37c-.4-.4-.92-.59-1.43-.59-.52 0-1.04.2-1.43.59L10.3 9.45l-7.72 7.72c-.78.78-.78 2.05 0 2.83L4 21.41c.39.39.9.59 1.41.59.51 0 1.02-.2 1.41-.59l7.78-7.78 2.81-2.81c.8-.78.8-2.07 0-2.86zM5.41 20L4 18.59l7.72-7.72 1.47 1.35L5.41 20z\"/>\n",
              "  </svg>\n",
              "      </button>\n",
              "      \n",
              "  <style>\n",
              "    .colab-df-container {\n",
              "      display:flex;\n",
              "      flex-wrap:wrap;\n",
              "      gap: 12px;\n",
              "    }\n",
              "\n",
              "    .colab-df-convert {\n",
              "      background-color: #E8F0FE;\n",
              "      border: none;\n",
              "      border-radius: 50%;\n",
              "      cursor: pointer;\n",
              "      display: none;\n",
              "      fill: #1967D2;\n",
              "      height: 32px;\n",
              "      padding: 0 0 0 0;\n",
              "      width: 32px;\n",
              "    }\n",
              "\n",
              "    .colab-df-convert:hover {\n",
              "      background-color: #E2EBFA;\n",
              "      box-shadow: 0px 1px 2px rgba(60, 64, 67, 0.3), 0px 1px 3px 1px rgba(60, 64, 67, 0.15);\n",
              "      fill: #174EA6;\n",
              "    }\n",
              "\n",
              "    [theme=dark] .colab-df-convert {\n",
              "      background-color: #3B4455;\n",
              "      fill: #D2E3FC;\n",
              "    }\n",
              "\n",
              "    [theme=dark] .colab-df-convert:hover {\n",
              "      background-color: #434B5C;\n",
              "      box-shadow: 0px 1px 3px 1px rgba(0, 0, 0, 0.15);\n",
              "      filter: drop-shadow(0px 1px 2px rgba(0, 0, 0, 0.3));\n",
              "      fill: #FFFFFF;\n",
              "    }\n",
              "  </style>\n",
              "\n",
              "      <script>\n",
              "        const buttonEl =\n",
              "          document.querySelector('#df-05e97c78-d1f6-4494-bbb6-4f04b2a8bc00 button.colab-df-convert');\n",
              "        buttonEl.style.display =\n",
              "          google.colab.kernel.accessAllowed ? 'block' : 'none';\n",
              "\n",
              "        async function convertToInteractive(key) {\n",
              "          const element = document.querySelector('#df-05e97c78-d1f6-4494-bbb6-4f04b2a8bc00');\n",
              "          const dataTable =\n",
              "            await google.colab.kernel.invokeFunction('convertToInteractive',\n",
              "                                                     [key], {});\n",
              "          if (!dataTable) return;\n",
              "\n",
              "          const docLinkHtml = 'Like what you see? Visit the ' +\n",
              "            '<a target=\"_blank\" href=https://colab.research.google.com/notebooks/data_table.ipynb>data table notebook</a>'\n",
              "            + ' to learn more about interactive tables.';\n",
              "          element.innerHTML = '';\n",
              "          dataTable['output_type'] = 'display_data';\n",
              "          await google.colab.output.renderOutput(dataTable, element);\n",
              "          const docLink = document.createElement('div');\n",
              "          docLink.innerHTML = docLinkHtml;\n",
              "          element.appendChild(docLink);\n",
              "        }\n",
              "      </script>\n",
              "    </div>\n",
              "  </div>\n",
              "  "
            ],
            "text/plain": [
              "      video_id  ...    target\n",
              "0  3C66w5Z0ixs  ...  0.103596\n",
              "1  M9Pmf9AB4Mo  ...  0.061611\n",
              "2  J78aPJ3VyNs  ...  0.173523\n",
              "3  kXLn3HkpjaA  ...  0.046804\n",
              "4  VIUo6yapDbc  ...  0.040753\n",
              "\n",
              "[5 rows x 20 columns]"
            ]
          },
          "metadata": {},
          "execution_count": 54
        }
      ]
    },
    {
      "cell_type": "code",
      "source": [
        "test.head()"
      ],
      "metadata": {
        "colab": {
          "base_uri": "https://localhost:8080/",
          "height": 548
        },
        "id": "n5CFhirKEyzN",
        "outputId": "a427f26a-4763-4858-ddb4-a09453a5ae13"
      },
      "execution_count": 55,
      "outputs": [
        {
          "output_type": "execute_result",
          "data": {
            "text/html": [
              "\n",
              "  <div id=\"df-1c79ad5a-ce0f-44d1-a39a-1a4ca43e3416\">\n",
              "    <div class=\"colab-df-container\">\n",
              "      <div>\n",
              "<style scoped>\n",
              "    .dataframe tbody tr th:only-of-type {\n",
              "        vertical-align: middle;\n",
              "    }\n",
              "\n",
              "    .dataframe tbody tr th {\n",
              "        vertical-align: top;\n",
              "    }\n",
              "\n",
              "    .dataframe thead th {\n",
              "        text-align: right;\n",
              "    }\n",
              "</style>\n",
              "<table border=\"1\" class=\"dataframe\">\n",
              "  <thead>\n",
              "    <tr style=\"text-align: right;\">\n",
              "      <th></th>\n",
              "      <th>video_id</th>\n",
              "      <th>title</th>\n",
              "      <th>publishedAt</th>\n",
              "      <th>channelId</th>\n",
              "      <th>channelTitle</th>\n",
              "      <th>categoryId</th>\n",
              "      <th>trending_date</th>\n",
              "      <th>tags</th>\n",
              "      <th>thumbnail_link</th>\n",
              "      <th>comments_disabled</th>\n",
              "      <th>ratings_disabled</th>\n",
              "      <th>description</th>\n",
              "      <th>id</th>\n",
              "      <th>duration_seconds</th>\n",
              "      <th>has_thumbnail</th>\n",
              "      <th>isTest</th>\n",
              "    </tr>\n",
              "  </thead>\n",
              "  <tbody>\n",
              "    <tr>\n",
              "      <th>0</th>\n",
              "      <td>_wNsZEqpKUA</td>\n",
              "      <td>Billie Eilish: Same Interview, The Fifth Year ...</td>\n",
              "      <td>2021-11-30 17:00:10+00:00</td>\n",
              "      <td>UCIsbLox_y9dCIMLd8tdC6qg</td>\n",
              "      <td>Vanity Fair</td>\n",
              "      <td>24</td>\n",
              "      <td>2021-12-01</td>\n",
              "      <td>billie|billie eilish|billie eilish 2021|billie...</td>\n",
              "      <td>https://i.ytimg.com/vi/_wNsZEqpKUA/default.jpg</td>\n",
              "      <td>False</td>\n",
              "      <td>False</td>\n",
              "      <td>I'm so much more open to stuff now. On the ver...</td>\n",
              "      <td>_wNsZEqpKUA_2021-12-01</td>\n",
              "      <td>1335.0</td>\n",
              "      <td>True</td>\n",
              "      <td>True</td>\n",
              "    </tr>\n",
              "    <tr>\n",
              "      <th>1</th>\n",
              "      <td>2jfbXZiE6Lc</td>\n",
              "      <td>Redneck vs Fancy Whiskey Glass</td>\n",
              "      <td>2021-11-29 21:30:27+00:00</td>\n",
              "      <td>UCT_QEGH0myu6lgbE_biQPuw</td>\n",
              "      <td>Drew Talbert</td>\n",
              "      <td>23</td>\n",
              "      <td>2021-12-01</td>\n",
              "      <td>[None]</td>\n",
              "      <td>https://i.ytimg.com/vi/2jfbXZiE6Lc/default.jpg</td>\n",
              "      <td>False</td>\n",
              "      <td>False</td>\n",
              "      <td>I’m just shocked Brad was able to sell him in ...</td>\n",
              "      <td>2jfbXZiE6Lc_2021-12-01</td>\n",
              "      <td>28.0</td>\n",
              "      <td>True</td>\n",
              "      <td>True</td>\n",
              "    </tr>\n",
              "    <tr>\n",
              "      <th>2</th>\n",
              "      <td>F1Hq8eVOMHs</td>\n",
              "      <td>Is Meat Really that Bad?</td>\n",
              "      <td>2021-11-30 15:01:34+00:00</td>\n",
              "      <td>UCsXVk37bltHxD1rDPwtNM8Q</td>\n",
              "      <td>Kurzgesagt – In a Nutshell</td>\n",
              "      <td>27</td>\n",
              "      <td>2021-12-01</td>\n",
              "      <td>[None]</td>\n",
              "      <td>https://i.ytimg.com/vi/F1Hq8eVOMHs/default.jpg</td>\n",
              "      <td>False</td>\n",
              "      <td>False</td>\n",
              "      <td>The first 1,000 people to use this link will g...</td>\n",
              "      <td>F1Hq8eVOMHs_2021-12-01</td>\n",
              "      <td>728.0</td>\n",
              "      <td>True</td>\n",
              "      <td>True</td>\n",
              "    </tr>\n",
              "    <tr>\n",
              "      <th>3</th>\n",
              "      <td>GQXVQmcGQUY</td>\n",
              "      <td>Things Get Strange With The UnderTaker | Cold ...</td>\n",
              "      <td>2021-11-30 16:00:27+00:00</td>\n",
              "      <td>UCLRmIdRJgLfmdpJufmBhBuA</td>\n",
              "      <td>LOL Network</td>\n",
              "      <td>23</td>\n",
              "      <td>2021-12-01</td>\n",
              "      <td>kevin hart|hartbeat productions|funny|comedy|c...</td>\n",
              "      <td>https://i.ytimg.com/vi/GQXVQmcGQUY/default.jpg</td>\n",
              "      <td>False</td>\n",
              "      <td>False</td>\n",
              "      <td>#PoweredByOldSpice Thought by many as one of t...</td>\n",
              "      <td>GQXVQmcGQUY_2021-12-01</td>\n",
              "      <td>829.0</td>\n",
              "      <td>True</td>\n",
              "      <td>True</td>\n",
              "    </tr>\n",
              "    <tr>\n",
              "      <th>4</th>\n",
              "      <td>n4XojTb6pfs</td>\n",
              "      <td>People Pleasers at a Restaurant</td>\n",
              "      <td>2021-11-30 17:15:02+00:00</td>\n",
              "      <td>UCT_QEGH0myu6lgbE_biQPuw</td>\n",
              "      <td>Drew Talbert</td>\n",
              "      <td>23</td>\n",
              "      <td>2021-12-01</td>\n",
              "      <td>[None]</td>\n",
              "      <td>https://i.ytimg.com/vi/n4XojTb6pfs/default.jpg</td>\n",
              "      <td>False</td>\n",
              "      <td>False</td>\n",
              "      <td>I apologize for existing - please throw me out...</td>\n",
              "      <td>n4XojTb6pfs_2021-12-01</td>\n",
              "      <td>31.0</td>\n",
              "      <td>True</td>\n",
              "      <td>True</td>\n",
              "    </tr>\n",
              "  </tbody>\n",
              "</table>\n",
              "</div>\n",
              "      <button class=\"colab-df-convert\" onclick=\"convertToInteractive('df-1c79ad5a-ce0f-44d1-a39a-1a4ca43e3416')\"\n",
              "              title=\"Convert this dataframe to an interactive table.\"\n",
              "              style=\"display:none;\">\n",
              "        \n",
              "  <svg xmlns=\"http://www.w3.org/2000/svg\" height=\"24px\"viewBox=\"0 0 24 24\"\n",
              "       width=\"24px\">\n",
              "    <path d=\"M0 0h24v24H0V0z\" fill=\"none\"/>\n",
              "    <path d=\"M18.56 5.44l.94 2.06.94-2.06 2.06-.94-2.06-.94-.94-2.06-.94 2.06-2.06.94zm-11 1L8.5 8.5l.94-2.06 2.06-.94-2.06-.94L8.5 2.5l-.94 2.06-2.06.94zm10 10l.94 2.06.94-2.06 2.06-.94-2.06-.94-.94-2.06-.94 2.06-2.06.94z\"/><path d=\"M17.41 7.96l-1.37-1.37c-.4-.4-.92-.59-1.43-.59-.52 0-1.04.2-1.43.59L10.3 9.45l-7.72 7.72c-.78.78-.78 2.05 0 2.83L4 21.41c.39.39.9.59 1.41.59.51 0 1.02-.2 1.41-.59l7.78-7.78 2.81-2.81c.8-.78.8-2.07 0-2.86zM5.41 20L4 18.59l7.72-7.72 1.47 1.35L5.41 20z\"/>\n",
              "  </svg>\n",
              "      </button>\n",
              "      \n",
              "  <style>\n",
              "    .colab-df-container {\n",
              "      display:flex;\n",
              "      flex-wrap:wrap;\n",
              "      gap: 12px;\n",
              "    }\n",
              "\n",
              "    .colab-df-convert {\n",
              "      background-color: #E8F0FE;\n",
              "      border: none;\n",
              "      border-radius: 50%;\n",
              "      cursor: pointer;\n",
              "      display: none;\n",
              "      fill: #1967D2;\n",
              "      height: 32px;\n",
              "      padding: 0 0 0 0;\n",
              "      width: 32px;\n",
              "    }\n",
              "\n",
              "    .colab-df-convert:hover {\n",
              "      background-color: #E2EBFA;\n",
              "      box-shadow: 0px 1px 2px rgba(60, 64, 67, 0.3), 0px 1px 3px 1px rgba(60, 64, 67, 0.15);\n",
              "      fill: #174EA6;\n",
              "    }\n",
              "\n",
              "    [theme=dark] .colab-df-convert {\n",
              "      background-color: #3B4455;\n",
              "      fill: #D2E3FC;\n",
              "    }\n",
              "\n",
              "    [theme=dark] .colab-df-convert:hover {\n",
              "      background-color: #434B5C;\n",
              "      box-shadow: 0px 1px 3px 1px rgba(0, 0, 0, 0.15);\n",
              "      filter: drop-shadow(0px 1px 2px rgba(0, 0, 0, 0.3));\n",
              "      fill: #FFFFFF;\n",
              "    }\n",
              "  </style>\n",
              "\n",
              "      <script>\n",
              "        const buttonEl =\n",
              "          document.querySelector('#df-1c79ad5a-ce0f-44d1-a39a-1a4ca43e3416 button.colab-df-convert');\n",
              "        buttonEl.style.display =\n",
              "          google.colab.kernel.accessAllowed ? 'block' : 'none';\n",
              "\n",
              "        async function convertToInteractive(key) {\n",
              "          const element = document.querySelector('#df-1c79ad5a-ce0f-44d1-a39a-1a4ca43e3416');\n",
              "          const dataTable =\n",
              "            await google.colab.kernel.invokeFunction('convertToInteractive',\n",
              "                                                     [key], {});\n",
              "          if (!dataTable) return;\n",
              "\n",
              "          const docLinkHtml = 'Like what you see? Visit the ' +\n",
              "            '<a target=\"_blank\" href=https://colab.research.google.com/notebooks/data_table.ipynb>data table notebook</a>'\n",
              "            + ' to learn more about interactive tables.';\n",
              "          element.innerHTML = '';\n",
              "          dataTable['output_type'] = 'display_data';\n",
              "          await google.colab.output.renderOutput(dataTable, element);\n",
              "          const docLink = document.createElement('div');\n",
              "          docLink.innerHTML = docLinkHtml;\n",
              "          element.appendChild(docLink);\n",
              "        }\n",
              "      </script>\n",
              "    </div>\n",
              "  </div>\n",
              "  "
            ],
            "text/plain": [
              "      video_id  ... isTest\n",
              "0  _wNsZEqpKUA  ...   True\n",
              "1  2jfbXZiE6Lc  ...   True\n",
              "2  F1Hq8eVOMHs  ...   True\n",
              "3  GQXVQmcGQUY  ...   True\n",
              "4  n4XojTb6pfs  ...   True\n",
              "\n",
              "[5 rows x 16 columns]"
            ]
          },
          "metadata": {},
          "execution_count": 55
        }
      ]
    },
    {
      "cell_type": "code",
      "source": [
        "train.shape"
      ],
      "metadata": {
        "colab": {
          "base_uri": "https://localhost:8080/"
        },
        "id": "0hd4qh7KE7ie",
        "outputId": "c1ed7062-83a7-4427-ba71-ee3644729e7c"
      },
      "execution_count": 56,
      "outputs": [
        {
          "output_type": "execute_result",
          "data": {
            "text/plain": [
              "(92275, 20)"
            ]
          },
          "metadata": {},
          "execution_count": 56
        }
      ]
    },
    {
      "cell_type": "code",
      "source": [
        "test.shape"
      ],
      "metadata": {
        "colab": {
          "base_uri": "https://localhost:8080/"
        },
        "id": "wUMrT5BfE9SA",
        "outputId": "d6ec3bd5-8ee4-44e5-9861-6d8aed5c1c9d"
      },
      "execution_count": 57,
      "outputs": [
        {
          "output_type": "execute_result",
          "data": {
            "text/plain": [
              "(5800, 16)"
            ]
          },
          "metadata": {},
          "execution_count": 57
        }
      ]
    },
    {
      "cell_type": "markdown",
      "source": [
        "________________________________________________________________________________\n",
        "**Preprocessing the dataset**\n",
        "________________________________________________________________________________\n"
      ],
      "metadata": {
        "id": "ykW3BLH0FFzJ"
      }
    },
    {
      "cell_type": "code",
      "source": [
        "test.info()"
      ],
      "metadata": {
        "colab": {
          "base_uri": "https://localhost:8080/"
        },
        "id": "otBgN0VuFLgy",
        "outputId": "10c3273d-261e-4b43-bcf6-222e85c8ed2a"
      },
      "execution_count": 58,
      "outputs": [
        {
          "output_type": "stream",
          "name": "stdout",
          "text": [
            "<class 'pandas.core.frame.DataFrame'>\n",
            "RangeIndex: 5800 entries, 0 to 5799\n",
            "Data columns (total 16 columns):\n",
            " #   Column             Non-Null Count  Dtype              \n",
            "---  ------             --------------  -----              \n",
            " 0   video_id           5800 non-null   object             \n",
            " 1   title              5800 non-null   object             \n",
            " 2   publishedAt        5800 non-null   datetime64[ns, UTC]\n",
            " 3   channelId          5800 non-null   object             \n",
            " 4   channelTitle       5800 non-null   object             \n",
            " 5   categoryId         5800 non-null   int64              \n",
            " 6   trending_date      5800 non-null   object             \n",
            " 7   tags               5800 non-null   object             \n",
            " 8   thumbnail_link     5800 non-null   object             \n",
            " 9   comments_disabled  5800 non-null   bool               \n",
            " 10  ratings_disabled   5800 non-null   bool               \n",
            " 11  description        5391 non-null   object             \n",
            " 12  id                 5800 non-null   object             \n",
            " 13  duration_seconds   5780 non-null   float64            \n",
            " 14  has_thumbnail      5800 non-null   bool               \n",
            " 15  isTest             5800 non-null   bool               \n",
            "dtypes: bool(4), datetime64[ns, UTC](1), float64(1), int64(1), object(9)\n",
            "memory usage: 566.5+ KB\n"
          ]
        }
      ]
    },
    {
      "cell_type": "code",
      "source": [
        "train.info()"
      ],
      "metadata": {
        "colab": {
          "base_uri": "https://localhost:8080/"
        },
        "id": "4UvV3jjfFTcO",
        "outputId": "cc23c987-1d8a-4210-d38a-0d47dd1feeb7"
      },
      "execution_count": 59,
      "outputs": [
        {
          "output_type": "stream",
          "name": "stdout",
          "text": [
            "<class 'pandas.core.frame.DataFrame'>\n",
            "RangeIndex: 92275 entries, 0 to 92274\n",
            "Data columns (total 20 columns):\n",
            " #   Column             Non-Null Count  Dtype              \n",
            "---  ------             --------------  -----              \n",
            " 0   video_id           92275 non-null  object             \n",
            " 1   title              92275 non-null  object             \n",
            " 2   publishedAt        92275 non-null  datetime64[ns, UTC]\n",
            " 3   channelId          92275 non-null  object             \n",
            " 4   channelTitle       92275 non-null  object             \n",
            " 5   categoryId         92275 non-null  int64              \n",
            " 6   trending_date      92275 non-null  object             \n",
            " 7   tags               92275 non-null  object             \n",
            " 8   view_count         92275 non-null  int64              \n",
            " 9   likes              92275 non-null  int64              \n",
            " 10  dislikes           92275 non-null  int64              \n",
            " 11  comment_count      92275 non-null  int64              \n",
            " 12  thumbnail_link     92275 non-null  object             \n",
            " 13  comments_disabled  92275 non-null  bool               \n",
            " 14  ratings_disabled   92275 non-null  bool               \n",
            " 15  description        90799 non-null  object             \n",
            " 16  id                 92275 non-null  object             \n",
            " 17  duration_seconds   90099 non-null  float64            \n",
            " 18  has_thumbnail      92275 non-null  bool               \n",
            " 19  target             92275 non-null  float64            \n",
            "dtypes: bool(3), datetime64[ns, UTC](1), float64(2), int64(5), object(9)\n",
            "memory usage: 12.2+ MB\n"
          ]
        }
      ]
    },
    {
      "cell_type": "code",
      "source": [
        "train.describe()"
      ],
      "metadata": {
        "colab": {
          "base_uri": "https://localhost:8080/",
          "height": 300
        },
        "id": "uULptJK5Fd9q",
        "outputId": "eb29b5c0-64b3-462f-ebd1-1b67f556ce30"
      },
      "execution_count": 60,
      "outputs": [
        {
          "output_type": "execute_result",
          "data": {
            "text/html": [
              "\n",
              "  <div id=\"df-6e9248c6-761d-47e4-8f4c-1b0240af219c\">\n",
              "    <div class=\"colab-df-container\">\n",
              "      <div>\n",
              "<style scoped>\n",
              "    .dataframe tbody tr th:only-of-type {\n",
              "        vertical-align: middle;\n",
              "    }\n",
              "\n",
              "    .dataframe tbody tr th {\n",
              "        vertical-align: top;\n",
              "    }\n",
              "\n",
              "    .dataframe thead th {\n",
              "        text-align: right;\n",
              "    }\n",
              "</style>\n",
              "<table border=\"1\" class=\"dataframe\">\n",
              "  <thead>\n",
              "    <tr style=\"text-align: right;\">\n",
              "      <th></th>\n",
              "      <th>categoryId</th>\n",
              "      <th>view_count</th>\n",
              "      <th>likes</th>\n",
              "      <th>dislikes</th>\n",
              "      <th>comment_count</th>\n",
              "      <th>duration_seconds</th>\n",
              "      <th>target</th>\n",
              "    </tr>\n",
              "  </thead>\n",
              "  <tbody>\n",
              "    <tr>\n",
              "      <th>count</th>\n",
              "      <td>92275.000000</td>\n",
              "      <td>9.227500e+04</td>\n",
              "      <td>9.227500e+04</td>\n",
              "      <td>92275.000000</td>\n",
              "      <td>9.227500e+04</td>\n",
              "      <td>90099.000000</td>\n",
              "      <td>92275.000000</td>\n",
              "    </tr>\n",
              "    <tr>\n",
              "      <th>mean</th>\n",
              "      <td>18.733416</td>\n",
              "      <td>2.779091e+06</td>\n",
              "      <td>1.521223e+05</td>\n",
              "      <td>3110.977307</td>\n",
              "      <td>1.373574e+04</td>\n",
              "      <td>760.614602</td>\n",
              "      <td>0.057060</td>\n",
              "    </tr>\n",
              "    <tr>\n",
              "      <th>std</th>\n",
              "      <td>6.866404</td>\n",
              "      <td>7.364113e+06</td>\n",
              "      <td>4.374777e+05</td>\n",
              "      <td>13342.743386</td>\n",
              "      <td>9.672682e+04</td>\n",
              "      <td>5816.818926</td>\n",
              "      <td>0.040373</td>\n",
              "    </tr>\n",
              "    <tr>\n",
              "      <th>min</th>\n",
              "      <td>1.000000</td>\n",
              "      <td>3.851000e+04</td>\n",
              "      <td>0.000000e+00</td>\n",
              "      <td>0.000000</td>\n",
              "      <td>0.000000e+00</td>\n",
              "      <td>3.000000</td>\n",
              "      <td>0.000000</td>\n",
              "    </tr>\n",
              "    <tr>\n",
              "      <th>25%</th>\n",
              "      <td>17.000000</td>\n",
              "      <td>5.312440e+05</td>\n",
              "      <td>2.136300e+04</td>\n",
              "      <td>368.000000</td>\n",
              "      <td>1.692000e+03</td>\n",
              "      <td>184.000000</td>\n",
              "      <td>0.028066</td>\n",
              "    </tr>\n",
              "    <tr>\n",
              "      <th>50%</th>\n",
              "      <td>20.000000</td>\n",
              "      <td>1.100045e+06</td>\n",
              "      <td>5.169200e+04</td>\n",
              "      <td>852.000000</td>\n",
              "      <td>3.856000e+03</td>\n",
              "      <td>446.000000</td>\n",
              "      <td>0.050784</td>\n",
              "    </tr>\n",
              "    <tr>\n",
              "      <th>75%</th>\n",
              "      <td>24.000000</td>\n",
              "      <td>2.482274e+06</td>\n",
              "      <td>1.312825e+05</td>\n",
              "      <td>2239.000000</td>\n",
              "      <td>9.322000e+03</td>\n",
              "      <td>854.000000</td>\n",
              "      <td>0.075265</td>\n",
              "    </tr>\n",
              "    <tr>\n",
              "      <th>max</th>\n",
              "      <td>29.000000</td>\n",
              "      <td>2.644074e+08</td>\n",
              "      <td>1.602153e+07</td>\n",
              "      <td>879354.000000</td>\n",
              "      <td>6.738537e+06</td>\n",
              "      <td>485620.000000</td>\n",
              "      <td>0.433503</td>\n",
              "    </tr>\n",
              "  </tbody>\n",
              "</table>\n",
              "</div>\n",
              "      <button class=\"colab-df-convert\" onclick=\"convertToInteractive('df-6e9248c6-761d-47e4-8f4c-1b0240af219c')\"\n",
              "              title=\"Convert this dataframe to an interactive table.\"\n",
              "              style=\"display:none;\">\n",
              "        \n",
              "  <svg xmlns=\"http://www.w3.org/2000/svg\" height=\"24px\"viewBox=\"0 0 24 24\"\n",
              "       width=\"24px\">\n",
              "    <path d=\"M0 0h24v24H0V0z\" fill=\"none\"/>\n",
              "    <path d=\"M18.56 5.44l.94 2.06.94-2.06 2.06-.94-2.06-.94-.94-2.06-.94 2.06-2.06.94zm-11 1L8.5 8.5l.94-2.06 2.06-.94-2.06-.94L8.5 2.5l-.94 2.06-2.06.94zm10 10l.94 2.06.94-2.06 2.06-.94-2.06-.94-.94-2.06-.94 2.06-2.06.94z\"/><path d=\"M17.41 7.96l-1.37-1.37c-.4-.4-.92-.59-1.43-.59-.52 0-1.04.2-1.43.59L10.3 9.45l-7.72 7.72c-.78.78-.78 2.05 0 2.83L4 21.41c.39.39.9.59 1.41.59.51 0 1.02-.2 1.41-.59l7.78-7.78 2.81-2.81c.8-.78.8-2.07 0-2.86zM5.41 20L4 18.59l7.72-7.72 1.47 1.35L5.41 20z\"/>\n",
              "  </svg>\n",
              "      </button>\n",
              "      \n",
              "  <style>\n",
              "    .colab-df-container {\n",
              "      display:flex;\n",
              "      flex-wrap:wrap;\n",
              "      gap: 12px;\n",
              "    }\n",
              "\n",
              "    .colab-df-convert {\n",
              "      background-color: #E8F0FE;\n",
              "      border: none;\n",
              "      border-radius: 50%;\n",
              "      cursor: pointer;\n",
              "      display: none;\n",
              "      fill: #1967D2;\n",
              "      height: 32px;\n",
              "      padding: 0 0 0 0;\n",
              "      width: 32px;\n",
              "    }\n",
              "\n",
              "    .colab-df-convert:hover {\n",
              "      background-color: #E2EBFA;\n",
              "      box-shadow: 0px 1px 2px rgba(60, 64, 67, 0.3), 0px 1px 3px 1px rgba(60, 64, 67, 0.15);\n",
              "      fill: #174EA6;\n",
              "    }\n",
              "\n",
              "    [theme=dark] .colab-df-convert {\n",
              "      background-color: #3B4455;\n",
              "      fill: #D2E3FC;\n",
              "    }\n",
              "\n",
              "    [theme=dark] .colab-df-convert:hover {\n",
              "      background-color: #434B5C;\n",
              "      box-shadow: 0px 1px 3px 1px rgba(0, 0, 0, 0.15);\n",
              "      filter: drop-shadow(0px 1px 2px rgba(0, 0, 0, 0.3));\n",
              "      fill: #FFFFFF;\n",
              "    }\n",
              "  </style>\n",
              "\n",
              "      <script>\n",
              "        const buttonEl =\n",
              "          document.querySelector('#df-6e9248c6-761d-47e4-8f4c-1b0240af219c button.colab-df-convert');\n",
              "        buttonEl.style.display =\n",
              "          google.colab.kernel.accessAllowed ? 'block' : 'none';\n",
              "\n",
              "        async function convertToInteractive(key) {\n",
              "          const element = document.querySelector('#df-6e9248c6-761d-47e4-8f4c-1b0240af219c');\n",
              "          const dataTable =\n",
              "            await google.colab.kernel.invokeFunction('convertToInteractive',\n",
              "                                                     [key], {});\n",
              "          if (!dataTable) return;\n",
              "\n",
              "          const docLinkHtml = 'Like what you see? Visit the ' +\n",
              "            '<a target=\"_blank\" href=https://colab.research.google.com/notebooks/data_table.ipynb>data table notebook</a>'\n",
              "            + ' to learn more about interactive tables.';\n",
              "          element.innerHTML = '';\n",
              "          dataTable['output_type'] = 'display_data';\n",
              "          await google.colab.output.renderOutput(dataTable, element);\n",
              "          const docLink = document.createElement('div');\n",
              "          docLink.innerHTML = docLinkHtml;\n",
              "          element.appendChild(docLink);\n",
              "        }\n",
              "      </script>\n",
              "    </div>\n",
              "  </div>\n",
              "  "
            ],
            "text/plain": [
              "         categoryId    view_count  ...  duration_seconds        target\n",
              "count  92275.000000  9.227500e+04  ...      90099.000000  92275.000000\n",
              "mean      18.733416  2.779091e+06  ...        760.614602      0.057060\n",
              "std        6.866404  7.364113e+06  ...       5816.818926      0.040373\n",
              "min        1.000000  3.851000e+04  ...          3.000000      0.000000\n",
              "25%       17.000000  5.312440e+05  ...        184.000000      0.028066\n",
              "50%       20.000000  1.100045e+06  ...        446.000000      0.050784\n",
              "75%       24.000000  2.482274e+06  ...        854.000000      0.075265\n",
              "max       29.000000  2.644074e+08  ...     485620.000000      0.433503\n",
              "\n",
              "[8 rows x 7 columns]"
            ]
          },
          "metadata": {},
          "execution_count": 60
        }
      ]
    },
    {
      "cell_type": "code",
      "source": [
        "train.nunique()"
      ],
      "metadata": {
        "colab": {
          "base_uri": "https://localhost:8080/"
        },
        "id": "27NWk50eFsjB",
        "outputId": "bd9d52de-69e1-4fae-df20-4d0e20250b0a"
      },
      "execution_count": 61,
      "outputs": [
        {
          "output_type": "execute_result",
          "data": {
            "text/plain": [
              "video_id             16969\n",
              "title                17321\n",
              "publishedAt          16692\n",
              "channelId             4563\n",
              "channelTitle          4632\n",
              "categoryId              15\n",
              "trending_date          461\n",
              "tags                 12891\n",
              "view_count           90915\n",
              "likes                71880\n",
              "dislikes             12805\n",
              "comment_count        25556\n",
              "thumbnail_link       16969\n",
              "comments_disabled        2\n",
              "ratings_disabled         2\n",
              "description          17703\n",
              "id                   92275\n",
              "duration_seconds      2327\n",
              "has_thumbnail            2\n",
              "target               91831\n",
              "dtype: int64"
            ]
          },
          "metadata": {},
          "execution_count": 61
        }
      ]
    },
    {
      "cell_type": "code",
      "source": [
        "Miss_train = train.isna().sum()\n",
        "Miss_train"
      ],
      "metadata": {
        "colab": {
          "base_uri": "https://localhost:8080/"
        },
        "id": "ee0Qsd3qFxUK",
        "outputId": "fd688423-b661-4e29-9797-0911d9dd1d5b"
      },
      "execution_count": 62,
      "outputs": [
        {
          "output_type": "execute_result",
          "data": {
            "text/plain": [
              "video_id                0\n",
              "title                   0\n",
              "publishedAt             0\n",
              "channelId               0\n",
              "channelTitle            0\n",
              "categoryId              0\n",
              "trending_date           0\n",
              "tags                    0\n",
              "view_count              0\n",
              "likes                   0\n",
              "dislikes                0\n",
              "comment_count           0\n",
              "thumbnail_link          0\n",
              "comments_disabled       0\n",
              "ratings_disabled        0\n",
              "description          1476\n",
              "id                      0\n",
              "duration_seconds     2176\n",
              "has_thumbnail           0\n",
              "target                  0\n",
              "dtype: int64"
            ]
          },
          "metadata": {},
          "execution_count": 62
        }
      ]
    },
    {
      "cell_type": "code",
      "source": [
        "Miss_test = test.isna().sum()\n",
        "Miss_test"
      ],
      "metadata": {
        "colab": {
          "base_uri": "https://localhost:8080/"
        },
        "id": "vFDLKE_1FzZT",
        "outputId": "caca5c73-43ca-4c23-a05b-46ddf8053a7c"
      },
      "execution_count": 63,
      "outputs": [
        {
          "output_type": "execute_result",
          "data": {
            "text/plain": [
              "video_id               0\n",
              "title                  0\n",
              "publishedAt            0\n",
              "channelId              0\n",
              "channelTitle           0\n",
              "categoryId             0\n",
              "trending_date          0\n",
              "tags                   0\n",
              "thumbnail_link         0\n",
              "comments_disabled      0\n",
              "ratings_disabled       0\n",
              "description          409\n",
              "id                     0\n",
              "duration_seconds      20\n",
              "has_thumbnail          0\n",
              "isTest                 0\n",
              "dtype: int64"
            ]
          },
          "metadata": {},
          "execution_count": 63
        }
      ]
    },
    {
      "cell_type": "markdown",
      "source": [
        "________________________________________________________________________________\n",
        "**Exploratory Data Analysis**\n",
        "________________________________________________________________________________\n"
      ],
      "metadata": {
        "id": "6ECOdCExGHrD"
      }
    },
    {
      "cell_type": "code",
      "source": [
        "plt.figure(figsize=(10,5))\n",
        "sns.barplot(x='categoryId', y=\"likes\", data=train.sort_values(by='categoryId', ascending=False))\n",
        "plt.xticks(rotation=90)\n",
        "plt.tight_layout()\n",
        "plt.show()"
      ],
      "metadata": {
        "colab": {
          "base_uri": "https://localhost:8080/",
          "height": 368
        },
        "id": "vqrtgoeiGV2L",
        "outputId": "c41f5962-2531-45dd-8c79-0efe290afa03"
      },
      "execution_count": 64,
      "outputs": [
        {
          "output_type": "display_data",
          "data": {
            "image/png": "[encoded data removed]",
            "text/plain": [
              "<Figure size 720x360 with 1 Axes>"
            ]
          },
          "metadata": {
            "needs_background": "light"
          }
        }
      ]
    },
    {
      "cell_type": "code",
      "source": [
        "plt.figure(figsize=(10,5))\n",
        "sns.histplot(np.log1p(train['duration_seconds']),kde=True)"
      ],
      "metadata": {
        "colab": {
          "base_uri": "https://localhost:8080/",
          "height": 352
        },
        "id": "leF6bGabGpSz",
        "outputId": "c1ab8ad9-d0bd-41a4-a5b9-5230bfbac128"
      },
      "execution_count": 65,
      "outputs": [
        {
          "output_type": "execute_result",
          "data": {
            "text/plain": [
              "<matplotlib.axes._subplots.AxesSubplot at 0x7f86c8bc5790>"
            ]
          },
          "metadata": {},
          "execution_count": 65
        },
        {
          "output_type": "display_data",
          "data": {
            "image/png": "[encoded data removed]",
            "text/plain": [
              "<Figure size 720x360 with 1 Axes>"
            ]
          },
          "metadata": {
            "needs_background": "light"
          }
        }
      ]
    },
    {
      "cell_type": "code",
      "source": [
        "plt.figure(figsize = (10,5))\n",
        "sns.scatterplot(x='view_count', y= 'likes', data =train, color = 'green')"
      ],
      "metadata": {
        "colab": {
          "base_uri": "https://localhost:8080/",
          "height": 363
        },
        "id": "cfE1gA9AGvgJ",
        "outputId": "26ae224d-48cc-4bca-bdcb-fc6619f5f98a"
      },
      "execution_count": 66,
      "outputs": [
        {
          "output_type": "execute_result",
          "data": {
            "text/plain": [
              "<matplotlib.axes._subplots.AxesSubplot at 0x7f86c8912650>"
            ]
          },
          "metadata": {},
          "execution_count": 66
        },
        {
          "output_type": "display_data",
          "data": {
            "image/png": "[encoded data removed]",
            "text/plain": [
              "<Figure size 720x360 with 1 Axes>"
            ]
          },
          "metadata": {
            "needs_background": "light"
          }
        }
      ]
    },
    {
      "cell_type": "code",
      "source": [
        "train.plot.box(figsize=(10,5))"
      ],
      "metadata": {
        "colab": {
          "base_uri": "https://localhost:8080/",
          "height": 403
        },
        "id": "Pxnr087FG0o2",
        "outputId": "919de424-5581-4f2a-9077-9a365a1831b5"
      },
      "execution_count": 67,
      "outputs": [
        {
          "output_type": "stream",
          "name": "stderr",
          "text": [
            "/usr/local/lib/python3.7/dist-packages/matplotlib/cbook/__init__.py:1376: VisibleDeprecationWarning: Creating an ndarray from ragged nested sequences (which is a list-or-tuple of lists-or-tuples-or ndarrays with different lengths or shapes) is deprecated. If you meant to do this, you must specify 'dtype=object' when creating the ndarray.\n",
            "  X = np.atleast_1d(X.T if isinstance(X, np.ndarray) else np.asarray(X))\n"
          ]
        },
        {
          "output_type": "execute_result",
          "data": {
            "text/plain": [
              "<matplotlib.axes._subplots.AxesSubplot at 0x7f86dbfce110>"
            ]
          },
          "metadata": {},
          "execution_count": 67
        },
        {
          "output_type": "display_data",
          "data": {
            "image/png": "[encoded data removed]",
            "text/plain": [
              "<Figure size 720x360 with 1 Axes>"
            ]
          },
          "metadata": {
            "needs_background": "light"
          }
        }
      ]
    },
    {
      "cell_type": "code",
      "source": [
        "plt.figure(figsize = (10,5))\n",
        "sns.countplot(x='categoryId',data=train)"
      ],
      "metadata": {
        "colab": {
          "base_uri": "https://localhost:8080/",
          "height": 351
        },
        "id": "NEpFGX1oHO6i",
        "outputId": "b5853e1f-5915-489e-f49e-8430ade2c50c"
      },
      "execution_count": 68,
      "outputs": [
        {
          "output_type": "execute_result",
          "data": {
            "text/plain": [
              "<matplotlib.axes._subplots.AxesSubplot at 0x7f86c8b35590>"
            ]
          },
          "metadata": {},
          "execution_count": 68
        },
        {
          "output_type": "display_data",
          "data": {
            "image/png": "[encoded data removed]",
            "text/plain": [
              "<Figure size 720x360 with 1 Axes>"
            ]
          },
          "metadata": {
            "needs_background": "light"
          }
        }
      ]
    },
    {
      "cell_type": "code",
      "source": [
        "data_corr = train.corr()\n",
        "data_corr"
      ],
      "metadata": {
        "colab": {
          "base_uri": "https://localhost:8080/",
          "height": 362
        },
        "id": "FeGMDi2FHWBA",
        "outputId": "7ca567e6-1444-4830-9538-777dfba9fd1b"
      },
      "execution_count": 69,
      "outputs": [
        {
          "output_type": "execute_result",
          "data": {
            "text/html": [
              "\n",
              "  <div id=\"df-c10c997e-12be-455e-b2f1-50ac79a3959e\">\n",
              "    <div class=\"colab-df-container\">\n",
              "      <div>\n",
              "<style scoped>\n",
              "    .dataframe tbody tr th:only-of-type {\n",
              "        vertical-align: middle;\n",
              "    }\n",
              "\n",
              "    .dataframe tbody tr th {\n",
              "        vertical-align: top;\n",
              "    }\n",
              "\n",
              "    .dataframe thead th {\n",
              "        text-align: right;\n",
              "    }\n",
              "</style>\n",
              "<table border=\"1\" class=\"dataframe\">\n",
              "  <thead>\n",
              "    <tr style=\"text-align: right;\">\n",
              "      <th></th>\n",
              "      <th>categoryId</th>\n",
              "      <th>view_count</th>\n",
              "      <th>likes</th>\n",
              "      <th>dislikes</th>\n",
              "      <th>comment_count</th>\n",
              "      <th>comments_disabled</th>\n",
              "      <th>ratings_disabled</th>\n",
              "      <th>duration_seconds</th>\n",
              "      <th>has_thumbnail</th>\n",
              "      <th>target</th>\n",
              "    </tr>\n",
              "  </thead>\n",
              "  <tbody>\n",
              "    <tr>\n",
              "      <th>categoryId</th>\n",
              "      <td>1.000000</td>\n",
              "      <td>-0.054252</td>\n",
              "      <td>-0.084881</td>\n",
              "      <td>-0.040228</td>\n",
              "      <td>-0.062841</td>\n",
              "      <td>0.091213</td>\n",
              "      <td>0.014993</td>\n",
              "      <td>0.042177</td>\n",
              "      <td>-0.007075</td>\n",
              "      <td>-0.096996</td>\n",
              "    </tr>\n",
              "    <tr>\n",
              "      <th>view_count</th>\n",
              "      <td>-0.054252</td>\n",
              "      <td>1.000000</td>\n",
              "      <td>0.851246</td>\n",
              "      <td>0.699140</td>\n",
              "      <td>0.539548</td>\n",
              "      <td>0.001978</td>\n",
              "      <td>0.016042</td>\n",
              "      <td>0.054755</td>\n",
              "      <td>0.002110</td>\n",
              "      <td>-0.021704</td>\n",
              "    </tr>\n",
              "    <tr>\n",
              "      <th>likes</th>\n",
              "      <td>-0.084881</td>\n",
              "      <td>0.851246</td>\n",
              "      <td>1.000000</td>\n",
              "      <td>0.663915</td>\n",
              "      <td>0.718915</td>\n",
              "      <td>-0.026965</td>\n",
              "      <td>-0.024179</td>\n",
              "      <td>-0.010461</td>\n",
              "      <td>0.002426</td>\n",
              "      <td>0.203877</td>\n",
              "    </tr>\n",
              "    <tr>\n",
              "      <th>dislikes</th>\n",
              "      <td>-0.040228</td>\n",
              "      <td>0.699140</td>\n",
              "      <td>0.663915</td>\n",
              "      <td>1.000000</td>\n",
              "      <td>0.532053</td>\n",
              "      <td>0.011013</td>\n",
              "      <td>-0.016213</td>\n",
              "      <td>0.021782</td>\n",
              "      <td>-0.011976</td>\n",
              "      <td>0.004226</td>\n",
              "    </tr>\n",
              "    <tr>\n",
              "      <th>comment_count</th>\n",
              "      <td>-0.062841</td>\n",
              "      <td>0.539548</td>\n",
              "      <td>0.718915</td>\n",
              "      <td>0.532053</td>\n",
              "      <td>1.000000</td>\n",
              "      <td>-0.018236</td>\n",
              "      <td>-0.006027</td>\n",
              "      <td>-0.006032</td>\n",
              "      <td>-0.004784</td>\n",
              "      <td>0.081980</td>\n",
              "    </tr>\n",
              "    <tr>\n",
              "      <th>comments_disabled</th>\n",
              "      <td>0.091213</td>\n",
              "      <td>0.001978</td>\n",
              "      <td>-0.026965</td>\n",
              "      <td>0.011013</td>\n",
              "      <td>-0.018236</td>\n",
              "      <td>1.000000</td>\n",
              "      <td>0.179496</td>\n",
              "      <td>0.023383</td>\n",
              "      <td>-0.024129</td>\n",
              "      <td>-0.089399</td>\n",
              "    </tr>\n",
              "    <tr>\n",
              "      <th>ratings_disabled</th>\n",
              "      <td>0.014993</td>\n",
              "      <td>0.016042</td>\n",
              "      <td>-0.024179</td>\n",
              "      <td>-0.016213</td>\n",
              "      <td>-0.006027</td>\n",
              "      <td>0.179496</td>\n",
              "      <td>1.000000</td>\n",
              "      <td>-0.001916</td>\n",
              "      <td>0.002951</td>\n",
              "      <td>-0.098274</td>\n",
              "    </tr>\n",
              "    <tr>\n",
              "      <th>duration_seconds</th>\n",
              "      <td>0.042177</td>\n",
              "      <td>0.054755</td>\n",
              "      <td>-0.010461</td>\n",
              "      <td>0.021782</td>\n",
              "      <td>-0.006032</td>\n",
              "      <td>0.023383</td>\n",
              "      <td>-0.001916</td>\n",
              "      <td>1.000000</td>\n",
              "      <td>0.004861</td>\n",
              "      <td>-0.035656</td>\n",
              "    </tr>\n",
              "    <tr>\n",
              "      <th>has_thumbnail</th>\n",
              "      <td>-0.007075</td>\n",
              "      <td>0.002110</td>\n",
              "      <td>0.002426</td>\n",
              "      <td>-0.011976</td>\n",
              "      <td>-0.004784</td>\n",
              "      <td>-0.024129</td>\n",
              "      <td>0.002951</td>\n",
              "      <td>0.004861</td>\n",
              "      <td>1.000000</td>\n",
              "      <td>0.019487</td>\n",
              "    </tr>\n",
              "    <tr>\n",
              "      <th>target</th>\n",
              "      <td>-0.096996</td>\n",
              "      <td>-0.021704</td>\n",
              "      <td>0.203877</td>\n",
              "      <td>0.004226</td>\n",
              "      <td>0.081980</td>\n",
              "      <td>-0.089399</td>\n",
              "      <td>-0.098274</td>\n",
              "      <td>-0.035656</td>\n",
              "      <td>0.019487</td>\n",
              "      <td>1.000000</td>\n",
              "    </tr>\n",
              "  </tbody>\n",
              "</table>\n",
              "</div>\n",
              "      <button class=\"colab-df-convert\" onclick=\"convertToInteractive('df-c10c997e-12be-455e-b2f1-50ac79a3959e')\"\n",
              "              title=\"Convert this dataframe to an interactive table.\"\n",
              "              style=\"display:none;\">\n",
              "        \n",
              "  <svg xmlns=\"http://www.w3.org/2000/svg\" height=\"24px\"viewBox=\"0 0 24 24\"\n",
              "       width=\"24px\">\n",
              "    <path d=\"M0 0h24v24H0V0z\" fill=\"none\"/>\n",
              "    <path d=\"M18.56 5.44l.94 2.06.94-2.06 2.06-.94-2.06-.94-.94-2.06-.94 2.06-2.06.94zm-11 1L8.5 8.5l.94-2.06 2.06-.94-2.06-.94L8.5 2.5l-.94 2.06-2.06.94zm10 10l.94 2.06.94-2.06 2.06-.94-2.06-.94-.94-2.06-.94 2.06-2.06.94z\"/><path d=\"M17.41 7.96l-1.37-1.37c-.4-.4-.92-.59-1.43-.59-.52 0-1.04.2-1.43.59L10.3 9.45l-7.72 7.72c-.78.78-.78 2.05 0 2.83L4 21.41c.39.39.9.59 1.41.59.51 0 1.02-.2 1.41-.59l7.78-7.78 2.81-2.81c.8-.78.8-2.07 0-2.86zM5.41 20L4 18.59l7.72-7.72 1.47 1.35L5.41 20z\"/>\n",
              "  </svg>\n",
              "      </button>\n",
              "      \n",
              "  <style>\n",
              "    .colab-df-container {\n",
              "      display:flex;\n",
              "      flex-wrap:wrap;\n",
              "      gap: 12px;\n",
              "    }\n",
              "\n",
              "    .colab-df-convert {\n",
              "      background-color: #E8F0FE;\n",
              "      border: none;\n",
              "      border-radius: 50%;\n",
              "      cursor: pointer;\n",
              "      display: none;\n",
              "      fill: #1967D2;\n",
              "      height: 32px;\n",
              "      padding: 0 0 0 0;\n",
              "      width: 32px;\n",
              "    }\n",
              "\n",
              "    .colab-df-convert:hover {\n",
              "      background-color: #E2EBFA;\n",
              "      box-shadow: 0px 1px 2px rgba(60, 64, 67, 0.3), 0px 1px 3px 1px rgba(60, 64, 67, 0.15);\n",
              "      fill: #174EA6;\n",
              "    }\n",
              "\n",
              "    [theme=dark] .colab-df-convert {\n",
              "      background-color: #3B4455;\n",
              "      fill: #D2E3FC;\n",
              "    }\n",
              "\n",
              "    [theme=dark] .colab-df-convert:hover {\n",
              "      background-color: #434B5C;\n",
              "      box-shadow: 0px 1px 3px 1px rgba(0, 0, 0, 0.15);\n",
              "      filter: drop-shadow(0px 1px 2px rgba(0, 0, 0, 0.3));\n",
              "      fill: #FFFFFF;\n",
              "    }\n",
              "  </style>\n",
              "\n",
              "      <script>\n",
              "        const buttonEl =\n",
              "          document.querySelector('#df-c10c997e-12be-455e-b2f1-50ac79a3959e button.colab-df-convert');\n",
              "        buttonEl.style.display =\n",
              "          google.colab.kernel.accessAllowed ? 'block' : 'none';\n",
              "\n",
              "        async function convertToInteractive(key) {\n",
              "          const element = document.querySelector('#df-c10c997e-12be-455e-b2f1-50ac79a3959e');\n",
              "          const dataTable =\n",
              "            await google.colab.kernel.invokeFunction('convertToInteractive',\n",
              "                                                     [key], {});\n",
              "          if (!dataTable) return;\n",
              "\n",
              "          const docLinkHtml = 'Like what you see? Visit the ' +\n",
              "            '<a target=\"_blank\" href=https://colab.research.google.com/notebooks/data_table.ipynb>data table notebook</a>'\n",
              "            + ' to learn more about interactive tables.';\n",
              "          element.innerHTML = '';\n",
              "          dataTable['output_type'] = 'display_data';\n",
              "          await google.colab.output.renderOutput(dataTable, element);\n",
              "          const docLink = document.createElement('div');\n",
              "          docLink.innerHTML = docLinkHtml;\n",
              "          element.appendChild(docLink);\n",
              "        }\n",
              "      </script>\n",
              "    </div>\n",
              "  </div>\n",
              "  "
            ],
            "text/plain": [
              "                   categoryId  view_count  ...  has_thumbnail    target\n",
              "categoryId           1.000000   -0.054252  ...      -0.007075 -0.096996\n",
              "view_count          -0.054252    1.000000  ...       0.002110 -0.021704\n",
              "likes               -0.084881    0.851246  ...       0.002426  0.203877\n",
              "dislikes            -0.040228    0.699140  ...      -0.011976  0.004226\n",
              "comment_count       -0.062841    0.539548  ...      -0.004784  0.081980\n",
              "comments_disabled    0.091213    0.001978  ...      -0.024129 -0.089399\n",
              "ratings_disabled     0.014993    0.016042  ...       0.002951 -0.098274\n",
              "duration_seconds     0.042177    0.054755  ...       0.004861 -0.035656\n",
              "has_thumbnail       -0.007075    0.002110  ...       1.000000  0.019487\n",
              "target              -0.096996   -0.021704  ...       0.019487  1.000000\n",
              "\n",
              "[10 rows x 10 columns]"
            ]
          },
          "metadata": {},
          "execution_count": 69
        }
      ]
    },
    {
      "cell_type": "code",
      "source": [
        "plt.figure(figsize=(20, 10))\n",
        "sns.heatmap(data_corr, annot=True)\n",
        "plt.show()"
      ],
      "metadata": {
        "colab": {
          "base_uri": "https://localhost:8080/",
          "height": 685
        },
        "id": "oS3XUVe-HY3R",
        "outputId": "80d62e4e-6290-420f-c72d-79fabd5e56db"
      },
      "execution_count": 70,
      "outputs": [
        {
          "output_type": "display_data",
          "data": {
            "image/png": "[encoded data removed]",
            "text/plain": [
              "<Figure size 1440x720 with 2 Axes>"
            ]
          },
          "metadata": {
            "needs_background": "light"
          }
        }
      ]
    },
    {
      "cell_type": "markdown",
      "source": [
        "________________________________________________________________________________\n",
        "**Data Preprocessing**\n",
        "________________________________________________________________________________\n"
      ],
      "metadata": {
        "id": "vchK7nt1H-VY"
      }
    },
    {
      "cell_type": "code",
      "source": [
        "train['duration_seconds'] = train['duration_seconds'].fillna(train['duration_seconds'].median())\n",
        "test['duration_seconds'] = test['duration_seconds'].fillna(test['duration_seconds'].median())"
      ],
      "metadata": {
        "id": "bma2ShXIID8K"
      },
      "execution_count": 71,
      "outputs": []
    },
    {
      "cell_type": "code",
      "source": [
        "train['description'] = train['description'].fillna(train['description'].mode()[0])\n",
        "test['description'] = test['description'].fillna(test['description'].mode()[0])"
      ],
      "metadata": {
        "id": "FTccMonyIa6D"
      },
      "execution_count": 72,
      "outputs": []
    },
    {
      "cell_type": "code",
      "source": [
        "train['trending_date'] = pd.to_datetime(train.trending_date)\n",
        "train['trending_date'] = pd.to_datetime(train.trending_date)"
      ],
      "metadata": {
        "id": "9ozB6cTJIg4_"
      },
      "execution_count": 73,
      "outputs": []
    },
    {
      "cell_type": "code",
      "source": [
        "train[\"Month\"]=pd.DatetimeIndex(train['trending_date']).month\n",
        "train[\"Year\"]=pd.DatetimeIndex(train['trending_date']).year\n",
        "train[\"Day\"]=pd.DatetimeIndex(train['trending_date']).day\n",
        "\n",
        "test[\"Month\"]=pd.DatetimeIndex(test['trending_date']).month\n",
        "test[\"Year\"]=pd.DatetimeIndex(test['trending_date']).year\n",
        "test[\"Day\"]=pd.DatetimeIndex(test['trending_date']).day"
      ],
      "metadata": {
        "id": "BqzEe4xMIsJo"
      },
      "execution_count": 74,
      "outputs": []
    },
    {
      "cell_type": "code",
      "source": [
        "train = train.drop([\"trending_date\"], axis=1)\n",
        "\n",
        "test = test.drop([\"trending_date\"], axis=1)"
      ],
      "metadata": {
        "id": "UdGHCeo1Iuhw"
      },
      "execution_count": 75,
      "outputs": []
    },
    {
      "cell_type": "code",
      "source": [
        "train2 = train[['publishedAt', 'categoryId', 'view_count', 'likes', \n",
        "                'dislikes', 'comments_disabled', 'ratings_disabled', \n",
        "                'duration_seconds', 'has_thumbnail', 'target', 'Month', 'Year', 'Day', 'comment_count']]\n",
        "\n",
        "test2 = test[['publishedAt', 'categoryId', 'comments_disabled', 'ratings_disabled', \n",
        "                'duration_seconds', 'has_thumbnail', 'isTest', 'Month', 'Year', 'Day']]"
      ],
      "metadata": {
        "id": "qZd6W6tzIwrZ"
      },
      "execution_count": 76,
      "outputs": []
    },
    {
      "cell_type": "code",
      "source": [
        "train2.info()"
      ],
      "metadata": {
        "colab": {
          "base_uri": "https://localhost:8080/"
        },
        "id": "XzZkKwBII2l_",
        "outputId": "9c58b92f-ef9e-4811-a961-8b00a9f67688"
      },
      "execution_count": 77,
      "outputs": [
        {
          "output_type": "stream",
          "name": "stdout",
          "text": [
            "<class 'pandas.core.frame.DataFrame'>\n",
            "RangeIndex: 92275 entries, 0 to 92274\n",
            "Data columns (total 14 columns):\n",
            " #   Column             Non-Null Count  Dtype              \n",
            "---  ------             --------------  -----              \n",
            " 0   publishedAt        92275 non-null  datetime64[ns, UTC]\n",
            " 1   categoryId         92275 non-null  int64              \n",
            " 2   view_count         92275 non-null  int64              \n",
            " 3   likes              92275 non-null  int64              \n",
            " 4   dislikes           92275 non-null  int64              \n",
            " 5   comments_disabled  92275 non-null  bool               \n",
            " 6   ratings_disabled   92275 non-null  bool               \n",
            " 7   duration_seconds   92275 non-null  float64            \n",
            " 8   has_thumbnail      92275 non-null  bool               \n",
            " 9   target             92275 non-null  float64            \n",
            " 10  Month              92275 non-null  int64              \n",
            " 11  Year               92275 non-null  int64              \n",
            " 12  Day                92275 non-null  int64              \n",
            " 13  comment_count      92275 non-null  int64              \n",
            "dtypes: bool(3), datetime64[ns, UTC](1), float64(2), int64(8)\n",
            "memory usage: 8.0 MB\n"
          ]
        }
      ]
    },
    {
      "cell_type": "code",
      "source": [
        "test2.info()"
      ],
      "metadata": {
        "colab": {
          "base_uri": "https://localhost:8080/"
        },
        "id": "rUB6Oka0I38P",
        "outputId": "73874683-6286-4aa5-e2dc-e02aab115add"
      },
      "execution_count": 78,
      "outputs": [
        {
          "output_type": "stream",
          "name": "stdout",
          "text": [
            "<class 'pandas.core.frame.DataFrame'>\n",
            "RangeIndex: 5800 entries, 0 to 5799\n",
            "Data columns (total 10 columns):\n",
            " #   Column             Non-Null Count  Dtype              \n",
            "---  ------             --------------  -----              \n",
            " 0   publishedAt        5800 non-null   datetime64[ns, UTC]\n",
            " 1   categoryId         5800 non-null   int64              \n",
            " 2   comments_disabled  5800 non-null   bool               \n",
            " 3   ratings_disabled   5800 non-null   bool               \n",
            " 4   duration_seconds   5800 non-null   float64            \n",
            " 5   has_thumbnail      5800 non-null   bool               \n",
            " 6   isTest             5800 non-null   bool               \n",
            " 7   Month              5800 non-null   int64              \n",
            " 8   Year               5800 non-null   int64              \n",
            " 9   Day                5800 non-null   int64              \n",
            "dtypes: bool(4), datetime64[ns, UTC](1), float64(1), int64(4)\n",
            "memory usage: 294.7 KB\n"
          ]
        }
      ]
    },
    {
      "cell_type": "code",
      "source": [
        "train2[\"published Month\"]=pd.DatetimeIndex(train2['publishedAt']).month\n",
        "train2[\"published Year\"]=pd.DatetimeIndex(train2['publishedAt']).year\n",
        "train2[\"published Day\"]=pd.DatetimeIndex(train2['publishedAt']).day\n",
        "train2[\"published Hour\"]=pd.DatetimeIndex(train2['publishedAt']).hour\n",
        "train2[\"published Second\"]=pd.DatetimeIndex(train2['publishedAt']).second\n",
        "\n",
        "test2[\"published Month\"]=pd.DatetimeIndex(test2['publishedAt']).month\n",
        "test2[\"published Year\"]=pd.DatetimeIndex(test2['publishedAt']).year\n",
        "test2[\"published Day\"]=pd.DatetimeIndex(test2['publishedAt']).day\n",
        "test2[\"published Hour\"]=pd.DatetimeIndex(test2['publishedAt']).hour\n",
        "test2[\"published Second\"]=pd.DatetimeIndex(test2['publishedAt']).second"
      ],
      "metadata": {
        "colab": {
          "base_uri": "https://localhost:8080/"
        },
        "id": "VofzK7s3I6D2",
        "outputId": "504d13dc-d60d-4137-c44e-f15bc26e511a"
      },
      "execution_count": 79,
      "outputs": [
        {
          "output_type": "stream",
          "name": "stderr",
          "text": [
            "/usr/local/lib/python3.7/dist-packages/ipykernel_launcher.py:1: SettingWithCopyWarning: \n",
            "A value is trying to be set on a copy of a slice from a DataFrame.\n",
            "Try using .loc[row_indexer,col_indexer] = value instead\n",
            "\n",
            "See the caveats in the documentation: https://pandas.pydata.org/pandas-docs/stable/user_guide/indexing.html#returning-a-view-versus-a-copy\n",
            "  \"\"\"Entry point for launching an IPython kernel.\n",
            "/usr/local/lib/python3.7/dist-packages/ipykernel_launcher.py:2: SettingWithCopyWarning: \n",
            "A value is trying to be set on a copy of a slice from a DataFrame.\n",
            "Try using .loc[row_indexer,col_indexer] = value instead\n",
            "\n",
            "See the caveats in the documentation: https://pandas.pydata.org/pandas-docs/stable/user_guide/indexing.html#returning-a-view-versus-a-copy\n",
            "  \n",
            "/usr/local/lib/python3.7/dist-packages/ipykernel_launcher.py:3: SettingWithCopyWarning: \n",
            "A value is trying to be set on a copy of a slice from a DataFrame.\n",
            "Try using .loc[row_indexer,col_indexer] = value instead\n",
            "\n",
            "See the caveats in the documentation: https://pandas.pydata.org/pandas-docs/stable/user_guide/indexing.html#returning-a-view-versus-a-copy\n",
            "  This is separate from the ipykernel package so we can avoid doing imports until\n",
            "/usr/local/lib/python3.7/dist-packages/ipykernel_launcher.py:4: SettingWithCopyWarning: \n",
            "A value is trying to be set on a copy of a slice from a DataFrame.\n",
            "Try using .loc[row_indexer,col_indexer] = value instead\n",
            "\n",
            "See the caveats in the documentation: https://pandas.pydata.org/pandas-docs/stable/user_guide/indexing.html#returning-a-view-versus-a-copy\n",
            "  after removing the cwd from sys.path.\n",
            "/usr/local/lib/python3.7/dist-packages/ipykernel_launcher.py:5: SettingWithCopyWarning: \n",
            "A value is trying to be set on a copy of a slice from a DataFrame.\n",
            "Try using .loc[row_indexer,col_indexer] = value instead\n",
            "\n",
            "See the caveats in the documentation: https://pandas.pydata.org/pandas-docs/stable/user_guide/indexing.html#returning-a-view-versus-a-copy\n",
            "  \"\"\"\n",
            "/usr/local/lib/python3.7/dist-packages/ipykernel_launcher.py:7: SettingWithCopyWarning: \n",
            "A value is trying to be set on a copy of a slice from a DataFrame.\n",
            "Try using .loc[row_indexer,col_indexer] = value instead\n",
            "\n",
            "See the caveats in the documentation: https://pandas.pydata.org/pandas-docs/stable/user_guide/indexing.html#returning-a-view-versus-a-copy\n",
            "  import sys\n",
            "/usr/local/lib/python3.7/dist-packages/ipykernel_launcher.py:8: SettingWithCopyWarning: \n",
            "A value is trying to be set on a copy of a slice from a DataFrame.\n",
            "Try using .loc[row_indexer,col_indexer] = value instead\n",
            "\n",
            "See the caveats in the documentation: https://pandas.pydata.org/pandas-docs/stable/user_guide/indexing.html#returning-a-view-versus-a-copy\n",
            "  \n",
            "/usr/local/lib/python3.7/dist-packages/ipykernel_launcher.py:9: SettingWithCopyWarning: \n",
            "A value is trying to be set on a copy of a slice from a DataFrame.\n",
            "Try using .loc[row_indexer,col_indexer] = value instead\n",
            "\n",
            "See the caveats in the documentation: https://pandas.pydata.org/pandas-docs/stable/user_guide/indexing.html#returning-a-view-versus-a-copy\n",
            "  if __name__ == '__main__':\n",
            "/usr/local/lib/python3.7/dist-packages/ipykernel_launcher.py:10: SettingWithCopyWarning: \n",
            "A value is trying to be set on a copy of a slice from a DataFrame.\n",
            "Try using .loc[row_indexer,col_indexer] = value instead\n",
            "\n",
            "See the caveats in the documentation: https://pandas.pydata.org/pandas-docs/stable/user_guide/indexing.html#returning-a-view-versus-a-copy\n",
            "  # Remove the CWD from sys.path while we load stuff.\n",
            "/usr/local/lib/python3.7/dist-packages/ipykernel_launcher.py:11: SettingWithCopyWarning: \n",
            "A value is trying to be set on a copy of a slice from a DataFrame.\n",
            "Try using .loc[row_indexer,col_indexer] = value instead\n",
            "\n",
            "See the caveats in the documentation: https://pandas.pydata.org/pandas-docs/stable/user_guide/indexing.html#returning-a-view-versus-a-copy\n",
            "  # This is added back by InteractiveShellApp.init_path()\n"
          ]
        }
      ]
    },
    {
      "cell_type": "code",
      "source": [
        "train2 = train2.drop(['publishedAt'], axis=1)\n",
        "\n",
        "test2 = test2.drop(['publishedAt'], axis=1)"
      ],
      "metadata": {
        "id": "kjlBxvVQI_di"
      },
      "execution_count": 80,
      "outputs": []
    },
    {
      "cell_type": "code",
      "source": [
        "label_encoder = preprocessing.LabelEncoder()\n",
        "\n",
        "label_encoder.fit(train2['target'])\n",
        "train2['target'] = label_encoder.transform(train2['target'])\n",
        "\n",
        "label_encoder.fit(train2['view_count'])\n",
        "train2['view_count'] = label_encoder.transform(train2['view_count'])\n",
        "\n",
        "label_encoder.fit(train2['likes'])\n",
        "train2['likes'] = label_encoder.transform(train2['likes'])\n",
        "\n",
        "label_encoder.fit(train2['dislikes'])\n",
        "train2['dislikes'] = label_encoder.transform(train2['dislikes'])\n",
        "\n",
        "label_encoder.fit(train2['duration_seconds'])\n",
        "train2['duration_seconds'] = label_encoder.transform(train2['duration_seconds'])"
      ],
      "metadata": {
        "id": "7fW9SbgvJJFN"
      },
      "execution_count": 81,
      "outputs": []
    },
    {
      "cell_type": "code",
      "source": [
        "train2 = train2.drop([\"target\"], axis=1)\n",
        "test2 = test2.drop([\"isTest\"], axis=1)"
      ],
      "metadata": {
        "id": "fPRlh6dlJi8w"
      },
      "execution_count": 82,
      "outputs": []
    },
    {
      "cell_type": "code",
      "source": [
        "train2['dislikes'] = train2['dislikes'].fillna(train2['dislikes'].mean())"
      ],
      "metadata": {
        "id": "uZguQ5D7J6CV"
      },
      "execution_count": 83,
      "outputs": []
    },
    {
      "cell_type": "code",
      "source": [
        "train_data=pd.concat([train2, test2],axis=0, join='outer')\n",
        "train_data.info()"
      ],
      "metadata": {
        "colab": {
          "base_uri": "https://localhost:8080/"
        },
        "id": "g9GueeeBJ8l9",
        "outputId": "293d0fc4-36d6-4f45-8d49-82f8b0bf6a8f"
      },
      "execution_count": 84,
      "outputs": [
        {
          "output_type": "stream",
          "name": "stdout",
          "text": [
            "<class 'pandas.core.frame.DataFrame'>\n",
            "Int64Index: 98075 entries, 0 to 5799\n",
            "Data columns (total 17 columns):\n",
            " #   Column             Non-Null Count  Dtype  \n",
            "---  ------             --------------  -----  \n",
            " 0   categoryId         98075 non-null  int64  \n",
            " 1   view_count         92275 non-null  float64\n",
            " 2   likes              92275 non-null  float64\n",
            " 3   dislikes           92275 non-null  float64\n",
            " 4   comments_disabled  98075 non-null  bool   \n",
            " 5   ratings_disabled   98075 non-null  bool   \n",
            " 6   duration_seconds   98075 non-null  float64\n",
            " 7   has_thumbnail      98075 non-null  bool   \n",
            " 8   Month              98075 non-null  int64  \n",
            " 9   Year               98075 non-null  int64  \n",
            " 10  Day                98075 non-null  int64  \n",
            " 11  comment_count      92275 non-null  float64\n",
            " 12  published Month    98075 non-null  int64  \n",
            " 13  published Year     98075 non-null  int64  \n",
            " 14  published Day      98075 non-null  int64  \n",
            " 15  published Hour     98075 non-null  int64  \n",
            " 16  published Second   98075 non-null  int64  \n",
            "dtypes: bool(3), float64(5), int64(9)\n",
            "memory usage: 11.5 MB\n"
          ]
        }
      ]
    },
    {
      "cell_type": "code",
      "source": [
        "test_data=pd.concat([train2, test2],axis=0, join='outer')\n",
        "test_data = test_data.drop(['view_count'], axis=1)\n",
        "test_data.info()"
      ],
      "metadata": {
        "colab": {
          "base_uri": "https://localhost:8080/"
        },
        "id": "6DbzErt_KBeD",
        "outputId": "7911b7c5-1203-4f4b-f5f5-8a4359a019b9"
      },
      "execution_count": 85,
      "outputs": [
        {
          "output_type": "stream",
          "name": "stdout",
          "text": [
            "<class 'pandas.core.frame.DataFrame'>\n",
            "Int64Index: 98075 entries, 0 to 5799\n",
            "Data columns (total 16 columns):\n",
            " #   Column             Non-Null Count  Dtype  \n",
            "---  ------             --------------  -----  \n",
            " 0   categoryId         98075 non-null  int64  \n",
            " 1   likes              92275 non-null  float64\n",
            " 2   dislikes           92275 non-null  float64\n",
            " 3   comments_disabled  98075 non-null  bool   \n",
            " 4   ratings_disabled   98075 non-null  bool   \n",
            " 5   duration_seconds   98075 non-null  float64\n",
            " 6   has_thumbnail      98075 non-null  bool   \n",
            " 7   Month              98075 non-null  int64  \n",
            " 8   Year               98075 non-null  int64  \n",
            " 9   Day                98075 non-null  int64  \n",
            " 10  comment_count      92275 non-null  float64\n",
            " 11  published Month    98075 non-null  int64  \n",
            " 12  published Year     98075 non-null  int64  \n",
            " 13  published Day      98075 non-null  int64  \n",
            " 14  published Hour     98075 non-null  int64  \n",
            " 15  published Second   98075 non-null  int64  \n",
            "dtypes: bool(3), float64(4), int64(9)\n",
            "memory usage: 10.8 MB\n"
          ]
        }
      ]
    },
    {
      "cell_type": "code",
      "source": [
        "test_data.dropna(inplace=True)\n",
        "train_data.dropna(inplace=True)"
      ],
      "metadata": {
        "id": "sYhhKnDTKIvB"
      },
      "execution_count": 86,
      "outputs": []
    },
    {
      "cell_type": "code",
      "source": [
        "data_corr = train_data.corr()\n",
        "data_corr\n",
        "\n",
        "plt.figure(figsize=(20, 10))\n",
        "sns.heatmap(data_corr, annot=True)\n",
        "plt.show()"
      ],
      "metadata": {
        "colab": {
          "base_uri": "https://localhost:8080/",
          "height": 685
        },
        "id": "M8_QWxDkKKps",
        "outputId": "0e05813c-7f9c-4552-ed6c-051bae7446f5"
      },
      "execution_count": 87,
      "outputs": [
        {
          "output_type": "display_data",
          "data": {
            "image/png": "[encoded data removed]",
            "text/plain": [
              "<Figure size 1440x720 with 2 Axes>"
            ]
          },
          "metadata": {
            "needs_background": "light"
          }
        }
      ]
    },
    {
      "cell_type": "markdown",
      "source": [
        "________________________________________________________________________________\n",
        "1. **Spliting the Dataset into Training and Testing** \n",
        "2. **Training**\n",
        "3. **Check models and algorithm scores**\n",
        "________________________________________________________________________________\n"
      ],
      "metadata": {
        "id": "euuhZVwBKcz4"
      }
    },
    {
      "cell_type": "code",
      "source": [
        "X_train = train_data.drop(['view_count'], axis = 1)\n",
        "Y_train = train_data['view_count']\n",
        "X_test = test_data\n",
        "Y_test = train_data['view_count']\n",
        "X_train.shape, Y_train.shape, X_test.shape, Y_test.shape"
      ],
      "metadata": {
        "colab": {
          "base_uri": "https://localhost:8080/"
        },
        "id": "W9D_NsVsKR3J",
        "outputId": "54862932-6d1b-48c3-e6d7-68db78978bae"
      },
      "execution_count": 88,
      "outputs": [
        {
          "output_type": "execute_result",
          "data": {
            "text/plain": [
              "((92275, 16), (92275,), (92275, 16), (92275,))"
            ]
          },
          "metadata": {},
          "execution_count": 88
        }
      ]
    },
    {
      "cell_type": "markdown",
      "source": [
        "**Apply the Linear regression**"
      ],
      "metadata": {
        "id": "bHtHWpESK9bJ"
      }
    },
    {
      "cell_type": "code",
      "source": [
        "model = LinearRegression()\n",
        "model.fit(X_train, Y_train)"
      ],
      "metadata": {
        "colab": {
          "base_uri": "https://localhost:8080/"
        },
        "id": "Kufdr-PKK82J",
        "outputId": "bb23ab1a-ed85-479d-b13c-f9238c05bedd"
      },
      "execution_count": 89,
      "outputs": [
        {
          "output_type": "execute_result",
          "data": {
            "text/plain": [
              "LinearRegression()"
            ]
          },
          "metadata": {},
          "execution_count": 89
        }
      ]
    },
    {
      "cell_type": "code",
      "source": [
        "preds = model.predict(X_test)"
      ],
      "metadata": {
        "id": "PBl6PngXLC0b"
      },
      "execution_count": 90,
      "outputs": []
    },
    {
      "cell_type": "code",
      "source": [
        "print('Coefficient of determination: %.2f'\n",
        "      % r2_score(Y_test, preds))"
      ],
      "metadata": {
        "colab": {
          "base_uri": "https://localhost:8080/"
        },
        "id": "nI_7wjv1LFHU",
        "outputId": "14ff817b-8d05-47fd-fc1d-9b5ef08e774f"
      },
      "execution_count": 91,
      "outputs": [
        {
          "output_type": "stream",
          "name": "stdout",
          "text": [
            "Coefficient of determination: 0.70\n"
          ]
        }
      ]
    },
    {
      "cell_type": "markdown",
      "source": [
        "**Apply the XGBRegressor**"
      ],
      "metadata": {
        "id": "GfH0RDksLHu_"
      }
    },
    {
      "cell_type": "code",
      "source": [
        "xgbr = xgb.XGBRegressor(verbosity=0) \n",
        "print(xgbr)\n",
        "XGBRegressor(base_score=0.5, booster='gbtree', colsample_bylevel=1,\n",
        "       colsample_bynode=1, colsample_bytree=1, gamma=0,\n",
        "       importance_type='gain', learning_rate=0.1, max_delta_step=0,\n",
        "       max_depth=3, min_child_weight=1, missing=None, n_estimators=100,\n",
        "       n_jobs=1, nthread=None, objective='reg:linear', random_state=0,\n",
        "       reg_alpha=0, reg_lambda=1, scale_pos_weight=1, seed=None,\n",
        "       silent=None, subsample=1, verbosity=1)\n",
        "\n",
        "xgbr.fit(X_train, Y_train)"
      ],
      "metadata": {
        "colab": {
          "base_uri": "https://localhost:8080/"
        },
        "id": "3Nv5jFBzLTAZ",
        "outputId": "f148d64a-e854-42de-ffee-293d40d0106c"
      },
      "execution_count": 92,
      "outputs": [
        {
          "output_type": "stream",
          "name": "stdout",
          "text": [
            "XGBRegressor(verbosity=0)\n"
          ]
        },
        {
          "output_type": "execute_result",
          "data": {
            "text/plain": [
              "XGBRegressor(verbosity=0)"
            ]
          },
          "metadata": {},
          "execution_count": 92
        }
      ]
    },
    {
      "cell_type": "code",
      "source": [
        "score = xgbr.score(X_train, Y_train)  \n",
        "print(\"Training score: \", score)"
      ],
      "metadata": {
        "colab": {
          "base_uri": "https://localhost:8080/"
        },
        "id": "xQAaiMoGLZzA",
        "outputId": "dfbe4f51-07b8-4d9c-bd80-d17579953b78"
      },
      "execution_count": 93,
      "outputs": [
        {
          "output_type": "stream",
          "name": "stdout",
          "text": [
            "Training score:  0.8233876243820976\n"
          ]
        }
      ]
    },
    {
      "cell_type": "code",
      "source": [
        "print(preds)"
      ],
      "metadata": {
        "colab": {
          "base_uri": "https://localhost:8080/"
        },
        "id": "Qh6lYs9gPmAq",
        "outputId": "a914401d-c91b-4b34-d0bc-eb1ccc0900df"
      },
      "execution_count": 94,
      "outputs": [
        {
          "output_type": "stream",
          "name": "stdout",
          "text": [
            "[ 64591.41598041  57293.08176357  67087.8282134  ...  23710.41794366\n",
            " 105590.27887506  29841.39995977]\n"
          ]
        }
      ]
    },
    {
      "cell_type": "markdown",
      "source": [
        "**Use prediction as target variable №1**"
      ],
      "metadata": {
        "id": "sOx7GvOM8H8o"
      }
    },
    {
      "cell_type": "code",
      "source": [
        "test_data['view_count'] = preds"
      ],
      "metadata": {
        "id": "Xz13P0V5QDTf"
      },
      "execution_count": 95,
      "outputs": []
    },
    {
      "cell_type": "code",
      "source": [
        "train_data.head()"
      ],
      "metadata": {
        "colab": {
          "base_uri": "https://localhost:8080/",
          "height": 206
        },
        "id": "JqqBCj9yRMxm",
        "outputId": "edac4c4b-117a-4753-f33e-398c21ef84e2"
      },
      "execution_count": 96,
      "outputs": [
        {
          "output_type": "execute_result",
          "data": {
            "text/html": [
              "\n",
              "  <div id=\"df-d4876f1d-f8da-4e67-ba5a-de4f72fa4d4a\">\n",
              "    <div class=\"colab-df-container\">\n",
              "      <div>\n",
              "<style scoped>\n",
              "    .dataframe tbody tr th:only-of-type {\n",
              "        vertical-align: middle;\n",
              "    }\n",
              "\n",
              "    .dataframe tbody tr th {\n",
              "        vertical-align: top;\n",
              "    }\n",
              "\n",
              "    .dataframe thead th {\n",
              "        text-align: right;\n",
              "    }\n",
              "</style>\n",
              "<table border=\"1\" class=\"dataframe\">\n",
              "  <thead>\n",
              "    <tr style=\"text-align: right;\">\n",
              "      <th></th>\n",
              "      <th>categoryId</th>\n",
              "      <th>view_count</th>\n",
              "      <th>likes</th>\n",
              "      <th>dislikes</th>\n",
              "      <th>comments_disabled</th>\n",
              "      <th>ratings_disabled</th>\n",
              "      <th>duration_seconds</th>\n",
              "      <th>has_thumbnail</th>\n",
              "      <th>Month</th>\n",
              "      <th>Year</th>\n",
              "      <th>Day</th>\n",
              "      <th>comment_count</th>\n",
              "      <th>published Month</th>\n",
              "      <th>published Year</th>\n",
              "      <th>published Day</th>\n",
              "      <th>published Hour</th>\n",
              "      <th>published Second</th>\n",
              "    </tr>\n",
              "  </thead>\n",
              "  <tbody>\n",
              "    <tr>\n",
              "      <th>0</th>\n",
              "      <td>22</td>\n",
              "      <td>54670.0</td>\n",
              "      <td>52834.0</td>\n",
              "      <td>5624.0</td>\n",
              "      <td>False</td>\n",
              "      <td>False</td>\n",
              "      <td>440.0</td>\n",
              "      <td>True</td>\n",
              "      <td>8</td>\n",
              "      <td>2020</td>\n",
              "      <td>12</td>\n",
              "      <td>35313.0</td>\n",
              "      <td>8</td>\n",
              "      <td>2020</td>\n",
              "      <td>11</td>\n",
              "      <td>19</td>\n",
              "      <td>14</td>\n",
              "    </tr>\n",
              "    <tr>\n",
              "      <th>1</th>\n",
              "      <td>20</td>\n",
              "      <td>66920.0</td>\n",
              "      <td>51621.0</td>\n",
              "      <td>2786.0</td>\n",
              "      <td>False</td>\n",
              "      <td>False</td>\n",
              "      <td>440.0</td>\n",
              "      <td>True</td>\n",
              "      <td>8</td>\n",
              "      <td>2020</td>\n",
              "      <td>12</td>\n",
              "      <td>16549.0</td>\n",
              "      <td>8</td>\n",
              "      <td>2020</td>\n",
              "      <td>11</td>\n",
              "      <td>17</td>\n",
              "      <td>10</td>\n",
              "    </tr>\n",
              "    <tr>\n",
              "      <th>2</th>\n",
              "      <td>24</td>\n",
              "      <td>63124.0</td>\n",
              "      <td>63999.0</td>\n",
              "      <td>2622.0</td>\n",
              "      <td>False</td>\n",
              "      <td>False</td>\n",
              "      <td>440.0</td>\n",
              "      <td>True</td>\n",
              "      <td>8</td>\n",
              "      <td>2020</td>\n",
              "      <td>12</td>\n",
              "      <td>40221.0</td>\n",
              "      <td>8</td>\n",
              "      <td>2020</td>\n",
              "      <td>11</td>\n",
              "      <td>16</td>\n",
              "      <td>6</td>\n",
              "    </tr>\n",
              "    <tr>\n",
              "      <th>3</th>\n",
              "      <td>10</td>\n",
              "      <td>20459.0</td>\n",
              "      <td>15044.0</td>\n",
              "      <td>1850.0</td>\n",
              "      <td>False</td>\n",
              "      <td>False</td>\n",
              "      <td>440.0</td>\n",
              "      <td>True</td>\n",
              "      <td>8</td>\n",
              "      <td>2020</td>\n",
              "      <td>12</td>\n",
              "      <td>7647.0</td>\n",
              "      <td>8</td>\n",
              "      <td>2020</td>\n",
              "      <td>11</td>\n",
              "      <td>16</td>\n",
              "      <td>55</td>\n",
              "    </tr>\n",
              "    <tr>\n",
              "      <th>4</th>\n",
              "      <td>26</td>\n",
              "      <td>45666.0</td>\n",
              "      <td>27267.0</td>\n",
              "      <td>958.0</td>\n",
              "      <td>False</td>\n",
              "      <td>False</td>\n",
              "      <td>440.0</td>\n",
              "      <td>True</td>\n",
              "      <td>8</td>\n",
              "      <td>2020</td>\n",
              "      <td>12</td>\n",
              "      <td>2196.0</td>\n",
              "      <td>8</td>\n",
              "      <td>2020</td>\n",
              "      <td>11</td>\n",
              "      <td>15</td>\n",
              "      <td>5</td>\n",
              "    </tr>\n",
              "  </tbody>\n",
              "</table>\n",
              "</div>\n",
              "      <button class=\"colab-df-convert\" onclick=\"convertToInteractive('df-d4876f1d-f8da-4e67-ba5a-de4f72fa4d4a')\"\n",
              "              title=\"Convert this dataframe to an interactive table.\"\n",
              "              style=\"display:none;\">\n",
              "        \n",
              "  <svg xmlns=\"http://www.w3.org/2000/svg\" height=\"24px\"viewBox=\"0 0 24 24\"\n",
              "       width=\"24px\">\n",
              "    <path d=\"M0 0h24v24H0V0z\" fill=\"none\"/>\n",
              "    <path d=\"M18.56 5.44l.94 2.06.94-2.06 2.06-.94-2.06-.94-.94-2.06-.94 2.06-2.06.94zm-11 1L8.5 8.5l.94-2.06 2.06-.94-2.06-.94L8.5 2.5l-.94 2.06-2.06.94zm10 10l.94 2.06.94-2.06 2.06-.94-2.06-.94-.94-2.06-.94 2.06-2.06.94z\"/><path d=\"M17.41 7.96l-1.37-1.37c-.4-.4-.92-.59-1.43-.59-.52 0-1.04.2-1.43.59L10.3 9.45l-7.72 7.72c-.78.78-.78 2.05 0 2.83L4 21.41c.39.39.9.59 1.41.59.51 0 1.02-.2 1.41-.59l7.78-7.78 2.81-2.81c.8-.78.8-2.07 0-2.86zM5.41 20L4 18.59l7.72-7.72 1.47 1.35L5.41 20z\"/>\n",
              "  </svg>\n",
              "      </button>\n",
              "      \n",
              "  <style>\n",
              "    .colab-df-container {\n",
              "      display:flex;\n",
              "      flex-wrap:wrap;\n",
              "      gap: 12px;\n",
              "    }\n",
              "\n",
              "    .colab-df-convert {\n",
              "      background-color: #E8F0FE;\n",
              "      border: none;\n",
              "      border-radius: 50%;\n",
              "      cursor: pointer;\n",
              "      display: none;\n",
              "      fill: #1967D2;\n",
              "      height: 32px;\n",
              "      padding: 0 0 0 0;\n",
              "      width: 32px;\n",
              "    }\n",
              "\n",
              "    .colab-df-convert:hover {\n",
              "      background-color: #E2EBFA;\n",
              "      box-shadow: 0px 1px 2px rgba(60, 64, 67, 0.3), 0px 1px 3px 1px rgba(60, 64, 67, 0.15);\n",
              "      fill: #174EA6;\n",
              "    }\n",
              "\n",
              "    [theme=dark] .colab-df-convert {\n",
              "      background-color: #3B4455;\n",
              "      fill: #D2E3FC;\n",
              "    }\n",
              "\n",
              "    [theme=dark] .colab-df-convert:hover {\n",
              "      background-color: #434B5C;\n",
              "      box-shadow: 0px 1px 3px 1px rgba(0, 0, 0, 0.15);\n",
              "      filter: drop-shadow(0px 1px 2px rgba(0, 0, 0, 0.3));\n",
              "      fill: #FFFFFF;\n",
              "    }\n",
              "  </style>\n",
              "\n",
              "      <script>\n",
              "        const buttonEl =\n",
              "          document.querySelector('#df-d4876f1d-f8da-4e67-ba5a-de4f72fa4d4a button.colab-df-convert');\n",
              "        buttonEl.style.display =\n",
              "          google.colab.kernel.accessAllowed ? 'block' : 'none';\n",
              "\n",
              "        async function convertToInteractive(key) {\n",
              "          const element = document.querySelector('#df-d4876f1d-f8da-4e67-ba5a-de4f72fa4d4a');\n",
              "          const dataTable =\n",
              "            await google.colab.kernel.invokeFunction('convertToInteractive',\n",
              "                                                     [key], {});\n",
              "          if (!dataTable) return;\n",
              "\n",
              "          const docLinkHtml = 'Like what you see? Visit the ' +\n",
              "            '<a target=\"_blank\" href=https://colab.research.google.com/notebooks/data_table.ipynb>data table notebook</a>'\n",
              "            + ' to learn more about interactive tables.';\n",
              "          element.innerHTML = '';\n",
              "          dataTable['output_type'] = 'display_data';\n",
              "          await google.colab.output.renderOutput(dataTable, element);\n",
              "          const docLink = document.createElement('div');\n",
              "          docLink.innerHTML = docLinkHtml;\n",
              "          element.appendChild(docLink);\n",
              "        }\n",
              "      </script>\n",
              "    </div>\n",
              "  </div>\n",
              "  "
            ],
            "text/plain": [
              "   categoryId  view_count  ...  published Hour  published Second\n",
              "0          22     54670.0  ...              19                14\n",
              "1          20     66920.0  ...              17                10\n",
              "2          24     63124.0  ...              16                 6\n",
              "3          10     20459.0  ...              16                55\n",
              "4          26     45666.0  ...              15                 5\n",
              "\n",
              "[5 rows x 17 columns]"
            ]
          },
          "metadata": {},
          "execution_count": 96
        }
      ]
    },
    {
      "cell_type": "code",
      "source": [
        "test_data.head()"
      ],
      "metadata": {
        "colab": {
          "base_uri": "https://localhost:8080/",
          "height": 206
        },
        "id": "ocSlXhs7QinL",
        "outputId": "341e3d80-dec2-4371-f744-be39c890910a"
      },
      "execution_count": 105,
      "outputs": [
        {
          "output_type": "execute_result",
          "data": {
            "text/html": [
              "\n",
              "  <div id=\"df-f29555d1-c6f5-4158-8c7b-4b085d471003\">\n",
              "    <div class=\"colab-df-container\">\n",
              "      <div>\n",
              "<style scoped>\n",
              "    .dataframe tbody tr th:only-of-type {\n",
              "        vertical-align: middle;\n",
              "    }\n",
              "\n",
              "    .dataframe tbody tr th {\n",
              "        vertical-align: top;\n",
              "    }\n",
              "\n",
              "    .dataframe thead th {\n",
              "        text-align: right;\n",
              "    }\n",
              "</style>\n",
              "<table border=\"1\" class=\"dataframe\">\n",
              "  <thead>\n",
              "    <tr style=\"text-align: right;\">\n",
              "      <th></th>\n",
              "      <th>categoryId</th>\n",
              "      <th>dislikes</th>\n",
              "      <th>comments_disabled</th>\n",
              "      <th>ratings_disabled</th>\n",
              "      <th>duration_seconds</th>\n",
              "      <th>has_thumbnail</th>\n",
              "      <th>Month</th>\n",
              "      <th>Year</th>\n",
              "      <th>Day</th>\n",
              "      <th>comment_count</th>\n",
              "      <th>published Month</th>\n",
              "      <th>published Year</th>\n",
              "      <th>published Day</th>\n",
              "      <th>published Hour</th>\n",
              "      <th>published Second</th>\n",
              "      <th>view_count</th>\n",
              "    </tr>\n",
              "  </thead>\n",
              "  <tbody>\n",
              "    <tr>\n",
              "      <th>0</th>\n",
              "      <td>22</td>\n",
              "      <td>5624.0</td>\n",
              "      <td>False</td>\n",
              "      <td>False</td>\n",
              "      <td>440.0</td>\n",
              "      <td>True</td>\n",
              "      <td>8</td>\n",
              "      <td>2020</td>\n",
              "      <td>12</td>\n",
              "      <td>35313.0</td>\n",
              "      <td>8</td>\n",
              "      <td>2020</td>\n",
              "      <td>11</td>\n",
              "      <td>19</td>\n",
              "      <td>14</td>\n",
              "      <td>64591.415980</td>\n",
              "    </tr>\n",
              "    <tr>\n",
              "      <th>1</th>\n",
              "      <td>20</td>\n",
              "      <td>2786.0</td>\n",
              "      <td>False</td>\n",
              "      <td>False</td>\n",
              "      <td>440.0</td>\n",
              "      <td>True</td>\n",
              "      <td>8</td>\n",
              "      <td>2020</td>\n",
              "      <td>12</td>\n",
              "      <td>16549.0</td>\n",
              "      <td>8</td>\n",
              "      <td>2020</td>\n",
              "      <td>11</td>\n",
              "      <td>17</td>\n",
              "      <td>10</td>\n",
              "      <td>57293.081764</td>\n",
              "    </tr>\n",
              "    <tr>\n",
              "      <th>2</th>\n",
              "      <td>24</td>\n",
              "      <td>2622.0</td>\n",
              "      <td>False</td>\n",
              "      <td>False</td>\n",
              "      <td>440.0</td>\n",
              "      <td>True</td>\n",
              "      <td>8</td>\n",
              "      <td>2020</td>\n",
              "      <td>12</td>\n",
              "      <td>40221.0</td>\n",
              "      <td>8</td>\n",
              "      <td>2020</td>\n",
              "      <td>11</td>\n",
              "      <td>16</td>\n",
              "      <td>6</td>\n",
              "      <td>67087.828213</td>\n",
              "    </tr>\n",
              "    <tr>\n",
              "      <th>3</th>\n",
              "      <td>10</td>\n",
              "      <td>1850.0</td>\n",
              "      <td>False</td>\n",
              "      <td>False</td>\n",
              "      <td>440.0</td>\n",
              "      <td>True</td>\n",
              "      <td>8</td>\n",
              "      <td>2020</td>\n",
              "      <td>12</td>\n",
              "      <td>7647.0</td>\n",
              "      <td>8</td>\n",
              "      <td>2020</td>\n",
              "      <td>11</td>\n",
              "      <td>16</td>\n",
              "      <td>55</td>\n",
              "      <td>26287.055322</td>\n",
              "    </tr>\n",
              "    <tr>\n",
              "      <th>4</th>\n",
              "      <td>26</td>\n",
              "      <td>958.0</td>\n",
              "      <td>False</td>\n",
              "      <td>False</td>\n",
              "      <td>440.0</td>\n",
              "      <td>True</td>\n",
              "      <td>8</td>\n",
              "      <td>2020</td>\n",
              "      <td>12</td>\n",
              "      <td>2196.0</td>\n",
              "      <td>8</td>\n",
              "      <td>2020</td>\n",
              "      <td>11</td>\n",
              "      <td>15</td>\n",
              "      <td>5</td>\n",
              "      <td>33706.036746</td>\n",
              "    </tr>\n",
              "  </tbody>\n",
              "</table>\n",
              "</div>\n",
              "      <button class=\"colab-df-convert\" onclick=\"convertToInteractive('df-f29555d1-c6f5-4158-8c7b-4b085d471003')\"\n",
              "              title=\"Convert this dataframe to an interactive table.\"\n",
              "              style=\"display:none;\">\n",
              "        \n",
              "  <svg xmlns=\"http://www.w3.org/2000/svg\" height=\"24px\"viewBox=\"0 0 24 24\"\n",
              "       width=\"24px\">\n",
              "    <path d=\"M0 0h24v24H0V0z\" fill=\"none\"/>\n",
              "    <path d=\"M18.56 5.44l.94 2.06.94-2.06 2.06-.94-2.06-.94-.94-2.06-.94 2.06-2.06.94zm-11 1L8.5 8.5l.94-2.06 2.06-.94-2.06-.94L8.5 2.5l-.94 2.06-2.06.94zm10 10l.94 2.06.94-2.06 2.06-.94-2.06-.94-.94-2.06-.94 2.06-2.06.94z\"/><path d=\"M17.41 7.96l-1.37-1.37c-.4-.4-.92-.59-1.43-.59-.52 0-1.04.2-1.43.59L10.3 9.45l-7.72 7.72c-.78.78-.78 2.05 0 2.83L4 21.41c.39.39.9.59 1.41.59.51 0 1.02-.2 1.41-.59l7.78-7.78 2.81-2.81c.8-.78.8-2.07 0-2.86zM5.41 20L4 18.59l7.72-7.72 1.47 1.35L5.41 20z\"/>\n",
              "  </svg>\n",
              "      </button>\n",
              "      \n",
              "  <style>\n",
              "    .colab-df-container {\n",
              "      display:flex;\n",
              "      flex-wrap:wrap;\n",
              "      gap: 12px;\n",
              "    }\n",
              "\n",
              "    .colab-df-convert {\n",
              "      background-color: #E8F0FE;\n",
              "      border: none;\n",
              "      border-radius: 50%;\n",
              "      cursor: pointer;\n",
              "      display: none;\n",
              "      fill: #1967D2;\n",
              "      height: 32px;\n",
              "      padding: 0 0 0 0;\n",
              "      width: 32px;\n",
              "    }\n",
              "\n",
              "    .colab-df-convert:hover {\n",
              "      background-color: #E2EBFA;\n",
              "      box-shadow: 0px 1px 2px rgba(60, 64, 67, 0.3), 0px 1px 3px 1px rgba(60, 64, 67, 0.15);\n",
              "      fill: #174EA6;\n",
              "    }\n",
              "\n",
              "    [theme=dark] .colab-df-convert {\n",
              "      background-color: #3B4455;\n",
              "      fill: #D2E3FC;\n",
              "    }\n",
              "\n",
              "    [theme=dark] .colab-df-convert:hover {\n",
              "      background-color: #434B5C;\n",
              "      box-shadow: 0px 1px 3px 1px rgba(0, 0, 0, 0.15);\n",
              "      filter: drop-shadow(0px 1px 2px rgba(0, 0, 0, 0.3));\n",
              "      fill: #FFFFFF;\n",
              "    }\n",
              "  </style>\n",
              "\n",
              "      <script>\n",
              "        const buttonEl =\n",
              "          document.querySelector('#df-f29555d1-c6f5-4158-8c7b-4b085d471003 button.colab-df-convert');\n",
              "        buttonEl.style.display =\n",
              "          google.colab.kernel.accessAllowed ? 'block' : 'none';\n",
              "\n",
              "        async function convertToInteractive(key) {\n",
              "          const element = document.querySelector('#df-f29555d1-c6f5-4158-8c7b-4b085d471003');\n",
              "          const dataTable =\n",
              "            await google.colab.kernel.invokeFunction('convertToInteractive',\n",
              "                                                     [key], {});\n",
              "          if (!dataTable) return;\n",
              "\n",
              "          const docLinkHtml = 'Like what you see? Visit the ' +\n",
              "            '<a target=\"_blank\" href=https://colab.research.google.com/notebooks/data_table.ipynb>data table notebook</a>'\n",
              "            + ' to learn more about interactive tables.';\n",
              "          element.innerHTML = '';\n",
              "          dataTable['output_type'] = 'display_data';\n",
              "          await google.colab.output.renderOutput(dataTable, element);\n",
              "          const docLink = document.createElement('div');\n",
              "          docLink.innerHTML = docLinkHtml;\n",
              "          element.appendChild(docLink);\n",
              "        }\n",
              "      </script>\n",
              "    </div>\n",
              "  </div>\n",
              "  "
            ],
            "text/plain": [
              "   categoryId  dislikes  ...  published Second    view_count\n",
              "0          22    5624.0  ...                14  64591.415980\n",
              "1          20    2786.0  ...                10  57293.081764\n",
              "2          24    2622.0  ...                 6  67087.828213\n",
              "3          10    1850.0  ...                55  26287.055322\n",
              "4          26     958.0  ...                 5  33706.036746\n",
              "\n",
              "[5 rows x 16 columns]"
            ]
          },
          "metadata": {},
          "execution_count": 105
        }
      ]
    },
    {
      "cell_type": "code",
      "source": [
        "test_data = test_data.drop(['likes'], axis=1)"
      ],
      "metadata": {
        "id": "UQVIP6HTT2Vx"
      },
      "execution_count": 104,
      "outputs": []
    },
    {
      "cell_type": "code",
      "source": [
        "X_train = train_data.drop(['likes'], axis = 1)\n",
        "Y_train = train_data['likes']\n",
        "X_test = test_data\n",
        "Y_test = train_data['likes']\n",
        "X_train.shape, Y_train.shape, X_test.shape, Y_test.shape"
      ],
      "metadata": {
        "colab": {
          "base_uri": "https://localhost:8080/"
        },
        "id": "caW3Ck4IQvvB",
        "outputId": "a47043da-4756-4848-bd0f-b08d15f17969"
      },
      "execution_count": 106,
      "outputs": [
        {
          "output_type": "execute_result",
          "data": {
            "text/plain": [
              "((92275, 16), (92275,), (92275, 16), (92275,))"
            ]
          },
          "metadata": {},
          "execution_count": 106
        }
      ]
    },
    {
      "cell_type": "code",
      "source": [
        "model = LinearRegression()\n",
        "model.fit(X_train, Y_train)"
      ],
      "metadata": {
        "colab": {
          "base_uri": "https://localhost:8080/"
        },
        "id": "t8hYGzElQ2II",
        "outputId": "334dafaa-03b2-47ef-9418-3ee2284e87e8"
      },
      "execution_count": 107,
      "outputs": [
        {
          "output_type": "execute_result",
          "data": {
            "text/plain": [
              "LinearRegression()"
            ]
          },
          "metadata": {},
          "execution_count": 107
        }
      ]
    },
    {
      "cell_type": "code",
      "source": [
        "preds = model.predict(X_test)"
      ],
      "metadata": {
        "colab": {
          "base_uri": "https://localhost:8080/"
        },
        "id": "a54ec6LFQ3j1",
        "outputId": "2d66a761-2ea9-4d2b-b2d6-a99d8a123b3f"
      },
      "execution_count": 108,
      "outputs": [
        {
          "output_type": "stream",
          "name": "stderr",
          "text": [
            "/usr/local/lib/python3.7/dist-packages/sklearn/base.py:493: FutureWarning: The feature names should match those that were passed during fit. Starting version 1.2, an error will be raised.\n",
            "Feature names must be in the same order as they were in fit.\n",
            "\n",
            "  warnings.warn(message, FutureWarning)\n"
          ]
        }
      ]
    },
    {
      "cell_type": "code",
      "source": [
        "print('Coefficient of determination: %.2f'\n",
        "      % r2_score(Y_test, preds))"
      ],
      "metadata": {
        "colab": {
          "base_uri": "https://localhost:8080/"
        },
        "id": "Hcwc36sEQ5IW",
        "outputId": "30c9ff01-67fc-4326-9178-9c330b3efcdd"
      },
      "execution_count": 109,
      "outputs": [
        {
          "output_type": "stream",
          "name": "stdout",
          "text": [
            "Coefficient of determination: -8410666.90\n"
          ]
        }
      ]
    },
    {
      "cell_type": "code",
      "source": [
        "xgbr = xgb.XGBRegressor(verbosity=0) \n",
        "print(xgbr)\n",
        "XGBRegressor(base_score=0.5, booster='gbtree', colsample_bylevel=1,\n",
        "       colsample_bynode=1, colsample_bytree=1, gamma=0,\n",
        "       importance_type='gain', learning_rate=0.1, max_delta_step=0,\n",
        "       max_depth=3, min_child_weight=1, missing=None, n_estimators=100,\n",
        "       n_jobs=1, nthread=None, objective='reg:linear', random_state=0,\n",
        "       reg_alpha=0, reg_lambda=1, scale_pos_weight=1, seed=None,\n",
        "       silent=None, subsample=1, verbosity=1)\n",
        "\n",
        "xgbr.fit(X_train, Y_train)"
      ],
      "metadata": {
        "colab": {
          "base_uri": "https://localhost:8080/"
        },
        "id": "ubGcrwCsQ6-x",
        "outputId": "cbdd025e-1393-4900-d31e-a19378cbba6d"
      },
      "execution_count": 103,
      "outputs": [
        {
          "output_type": "stream",
          "name": "stdout",
          "text": [
            "XGBRegressor(verbosity=0)\n"
          ]
        },
        {
          "output_type": "execute_result",
          "data": {
            "text/plain": [
              "XGBRegressor(verbosity=0)"
            ]
          },
          "metadata": {},
          "execution_count": 103
        }
      ]
    },
    {
      "cell_type": "code",
      "source": [
        "score = xgbr.score(X_train, Y_train)  \n",
        "print(\"Training score: \", score)"
      ],
      "metadata": {
        "colab": {
          "base_uri": "https://localhost:8080/"
        },
        "id": "epoRVsNpQ8Lc",
        "outputId": "84483f8e-dfcb-47f5-907b-1dce1068340a"
      },
      "execution_count": 110,
      "outputs": [
        {
          "output_type": "stream",
          "name": "stdout",
          "text": [
            "Training score:  0.8738896433036859\n"
          ]
        }
      ]
    },
    {
      "cell_type": "markdown",
      "source": [
        "**Use prediction as target variable №2**"
      ],
      "metadata": {
        "id": "D7yCJiZX8o93"
      }
    },
    {
      "cell_type": "code",
      "source": [
        "test_data['likes'] = preds"
      ],
      "metadata": {
        "id": "uNY45NElYjlE"
      },
      "execution_count": 111,
      "outputs": []
    },
    {
      "cell_type": "code",
      "source": [
        "train_data['target'] = train['target']"
      ],
      "metadata": {
        "id": "0tyCVpi5ZnIN"
      },
      "execution_count": 120,
      "outputs": []
    },
    {
      "cell_type": "code",
      "source": [
        "train_data.head()"
      ],
      "metadata": {
        "colab": {
          "base_uri": "https://localhost:8080/",
          "height": 206
        },
        "id": "mTl01bVKZ_V7",
        "outputId": "d713feea-270b-4f90-ebfb-a4b81a8f2f15"
      },
      "execution_count": 125,
      "outputs": [
        {
          "output_type": "execute_result",
          "data": {
            "text/html": [
              "\n",
              "  <div id=\"df-ffe98e5d-be3b-44c8-addf-d5033f84083b\">\n",
              "    <div class=\"colab-df-container\">\n",
              "      <div>\n",
              "<style scoped>\n",
              "    .dataframe tbody tr th:only-of-type {\n",
              "        vertical-align: middle;\n",
              "    }\n",
              "\n",
              "    .dataframe tbody tr th {\n",
              "        vertical-align: top;\n",
              "    }\n",
              "\n",
              "    .dataframe thead th {\n",
              "        text-align: right;\n",
              "    }\n",
              "</style>\n",
              "<table border=\"1\" class=\"dataframe\">\n",
              "  <thead>\n",
              "    <tr style=\"text-align: right;\">\n",
              "      <th></th>\n",
              "      <th>categoryId</th>\n",
              "      <th>likes</th>\n",
              "      <th>dislikes</th>\n",
              "      <th>comments_disabled</th>\n",
              "      <th>ratings_disabled</th>\n",
              "      <th>duration_seconds</th>\n",
              "      <th>has_thumbnail</th>\n",
              "      <th>Month</th>\n",
              "      <th>Year</th>\n",
              "      <th>Day</th>\n",
              "      <th>comment_count</th>\n",
              "      <th>published Month</th>\n",
              "      <th>published Year</th>\n",
              "      <th>published Day</th>\n",
              "      <th>published Hour</th>\n",
              "      <th>published Second</th>\n",
              "      <th>target</th>\n",
              "    </tr>\n",
              "  </thead>\n",
              "  <tbody>\n",
              "    <tr>\n",
              "      <th>0</th>\n",
              "      <td>22</td>\n",
              "      <td>52834.0</td>\n",
              "      <td>5624.0</td>\n",
              "      <td>False</td>\n",
              "      <td>False</td>\n",
              "      <td>440.0</td>\n",
              "      <td>True</td>\n",
              "      <td>8</td>\n",
              "      <td>2020</td>\n",
              "      <td>12</td>\n",
              "      <td>35313.0</td>\n",
              "      <td>8</td>\n",
              "      <td>2020</td>\n",
              "      <td>11</td>\n",
              "      <td>19</td>\n",
              "      <td>14</td>\n",
              "      <td>0.103596</td>\n",
              "    </tr>\n",
              "    <tr>\n",
              "      <th>1</th>\n",
              "      <td>20</td>\n",
              "      <td>51621.0</td>\n",
              "      <td>2786.0</td>\n",
              "      <td>False</td>\n",
              "      <td>False</td>\n",
              "      <td>440.0</td>\n",
              "      <td>True</td>\n",
              "      <td>8</td>\n",
              "      <td>2020</td>\n",
              "      <td>12</td>\n",
              "      <td>16549.0</td>\n",
              "      <td>8</td>\n",
              "      <td>2020</td>\n",
              "      <td>11</td>\n",
              "      <td>17</td>\n",
              "      <td>10</td>\n",
              "      <td>0.061611</td>\n",
              "    </tr>\n",
              "    <tr>\n",
              "      <th>2</th>\n",
              "      <td>24</td>\n",
              "      <td>63999.0</td>\n",
              "      <td>2622.0</td>\n",
              "      <td>False</td>\n",
              "      <td>False</td>\n",
              "      <td>440.0</td>\n",
              "      <td>True</td>\n",
              "      <td>8</td>\n",
              "      <td>2020</td>\n",
              "      <td>12</td>\n",
              "      <td>40221.0</td>\n",
              "      <td>8</td>\n",
              "      <td>2020</td>\n",
              "      <td>11</td>\n",
              "      <td>16</td>\n",
              "      <td>6</td>\n",
              "      <td>0.173523</td>\n",
              "    </tr>\n",
              "    <tr>\n",
              "      <th>3</th>\n",
              "      <td>10</td>\n",
              "      <td>15044.0</td>\n",
              "      <td>1850.0</td>\n",
              "      <td>False</td>\n",
              "      <td>False</td>\n",
              "      <td>440.0</td>\n",
              "      <td>True</td>\n",
              "      <td>8</td>\n",
              "      <td>2020</td>\n",
              "      <td>12</td>\n",
              "      <td>7647.0</td>\n",
              "      <td>8</td>\n",
              "      <td>2020</td>\n",
              "      <td>11</td>\n",
              "      <td>16</td>\n",
              "      <td>55</td>\n",
              "      <td>0.046804</td>\n",
              "    </tr>\n",
              "    <tr>\n",
              "      <th>4</th>\n",
              "      <td>26</td>\n",
              "      <td>27267.0</td>\n",
              "      <td>958.0</td>\n",
              "      <td>False</td>\n",
              "      <td>False</td>\n",
              "      <td>440.0</td>\n",
              "      <td>True</td>\n",
              "      <td>8</td>\n",
              "      <td>2020</td>\n",
              "      <td>12</td>\n",
              "      <td>2196.0</td>\n",
              "      <td>8</td>\n",
              "      <td>2020</td>\n",
              "      <td>11</td>\n",
              "      <td>15</td>\n",
              "      <td>5</td>\n",
              "      <td>0.040753</td>\n",
              "    </tr>\n",
              "  </tbody>\n",
              "</table>\n",
              "</div>\n",
              "      <button class=\"colab-df-convert\" onclick=\"convertToInteractive('df-ffe98e5d-be3b-44c8-addf-d5033f84083b')\"\n",
              "              title=\"Convert this dataframe to an interactive table.\"\n",
              "              style=\"display:none;\">\n",
              "        \n",
              "  <svg xmlns=\"http://www.w3.org/2000/svg\" height=\"24px\"viewBox=\"0 0 24 24\"\n",
              "       width=\"24px\">\n",
              "    <path d=\"M0 0h24v24H0V0z\" fill=\"none\"/>\n",
              "    <path d=\"M18.56 5.44l.94 2.06.94-2.06 2.06-.94-2.06-.94-.94-2.06-.94 2.06-2.06.94zm-11 1L8.5 8.5l.94-2.06 2.06-.94-2.06-.94L8.5 2.5l-.94 2.06-2.06.94zm10 10l.94 2.06.94-2.06 2.06-.94-2.06-.94-.94-2.06-.94 2.06-2.06.94z\"/><path d=\"M17.41 7.96l-1.37-1.37c-.4-.4-.92-.59-1.43-.59-.52 0-1.04.2-1.43.59L10.3 9.45l-7.72 7.72c-.78.78-.78 2.05 0 2.83L4 21.41c.39.39.9.59 1.41.59.51 0 1.02-.2 1.41-.59l7.78-7.78 2.81-2.81c.8-.78.8-2.07 0-2.86zM5.41 20L4 18.59l7.72-7.72 1.47 1.35L5.41 20z\"/>\n",
              "  </svg>\n",
              "      </button>\n",
              "      \n",
              "  <style>\n",
              "    .colab-df-container {\n",
              "      display:flex;\n",
              "      flex-wrap:wrap;\n",
              "      gap: 12px;\n",
              "    }\n",
              "\n",
              "    .colab-df-convert {\n",
              "      background-color: #E8F0FE;\n",
              "      border: none;\n",
              "      border-radius: 50%;\n",
              "      cursor: pointer;\n",
              "      display: none;\n",
              "      fill: #1967D2;\n",
              "      height: 32px;\n",
              "      padding: 0 0 0 0;\n",
              "      width: 32px;\n",
              "    }\n",
              "\n",
              "    .colab-df-convert:hover {\n",
              "      background-color: #E2EBFA;\n",
              "      box-shadow: 0px 1px 2px rgba(60, 64, 67, 0.3), 0px 1px 3px 1px rgba(60, 64, 67, 0.15);\n",
              "      fill: #174EA6;\n",
              "    }\n",
              "\n",
              "    [theme=dark] .colab-df-convert {\n",
              "      background-color: #3B4455;\n",
              "      fill: #D2E3FC;\n",
              "    }\n",
              "\n",
              "    [theme=dark] .colab-df-convert:hover {\n",
              "      background-color: #434B5C;\n",
              "      box-shadow: 0px 1px 3px 1px rgba(0, 0, 0, 0.15);\n",
              "      filter: drop-shadow(0px 1px 2px rgba(0, 0, 0, 0.3));\n",
              "      fill: #FFFFFF;\n",
              "    }\n",
              "  </style>\n",
              "\n",
              "      <script>\n",
              "        const buttonEl =\n",
              "          document.querySelector('#df-ffe98e5d-be3b-44c8-addf-d5033f84083b button.colab-df-convert');\n",
              "        buttonEl.style.display =\n",
              "          google.colab.kernel.accessAllowed ? 'block' : 'none';\n",
              "\n",
              "        async function convertToInteractive(key) {\n",
              "          const element = document.querySelector('#df-ffe98e5d-be3b-44c8-addf-d5033f84083b');\n",
              "          const dataTable =\n",
              "            await google.colab.kernel.invokeFunction('convertToInteractive',\n",
              "                                                     [key], {});\n",
              "          if (!dataTable) return;\n",
              "\n",
              "          const docLinkHtml = 'Like what you see? Visit the ' +\n",
              "            '<a target=\"_blank\" href=https://colab.research.google.com/notebooks/data_table.ipynb>data table notebook</a>'\n",
              "            + ' to learn more about interactive tables.';\n",
              "          element.innerHTML = '';\n",
              "          dataTable['output_type'] = 'display_data';\n",
              "          await google.colab.output.renderOutput(dataTable, element);\n",
              "          const docLink = document.createElement('div');\n",
              "          docLink.innerHTML = docLinkHtml;\n",
              "          element.appendChild(docLink);\n",
              "        }\n",
              "      </script>\n",
              "    </div>\n",
              "  </div>\n",
              "  "
            ],
            "text/plain": [
              "   categoryId    likes  dislikes  ...  published Hour  published Second    target\n",
              "0          22  52834.0    5624.0  ...              19                14  0.103596\n",
              "1          20  51621.0    2786.0  ...              17                10  0.061611\n",
              "2          24  63999.0    2622.0  ...              16                 6  0.173523\n",
              "3          10  15044.0    1850.0  ...              16                55  0.046804\n",
              "4          26  27267.0     958.0  ...              15                 5  0.040753\n",
              "\n",
              "[5 rows x 17 columns]"
            ]
          },
          "metadata": {},
          "execution_count": 125
        }
      ]
    },
    {
      "cell_type": "code",
      "source": [
        "test_data.head()"
      ],
      "metadata": {
        "colab": {
          "base_uri": "https://localhost:8080/",
          "height": 206
        },
        "id": "veR6zAjcaMR1",
        "outputId": "39cab2f0-fcaf-487e-f8fa-0ba64fea5e15"
      },
      "execution_count": 127,
      "outputs": [
        {
          "output_type": "execute_result",
          "data": {
            "text/html": [
              "\n",
              "  <div id=\"df-7294d049-1cf6-4c1d-a955-8a9537a84e7c\">\n",
              "    <div class=\"colab-df-container\">\n",
              "      <div>\n",
              "<style scoped>\n",
              "    .dataframe tbody tr th:only-of-type {\n",
              "        vertical-align: middle;\n",
              "    }\n",
              "\n",
              "    .dataframe tbody tr th {\n",
              "        vertical-align: top;\n",
              "    }\n",
              "\n",
              "    .dataframe thead th {\n",
              "        text-align: right;\n",
              "    }\n",
              "</style>\n",
              "<table border=\"1\" class=\"dataframe\">\n",
              "  <thead>\n",
              "    <tr style=\"text-align: right;\">\n",
              "      <th></th>\n",
              "      <th>categoryId</th>\n",
              "      <th>dislikes</th>\n",
              "      <th>comments_disabled</th>\n",
              "      <th>ratings_disabled</th>\n",
              "      <th>duration_seconds</th>\n",
              "      <th>has_thumbnail</th>\n",
              "      <th>Month</th>\n",
              "      <th>Year</th>\n",
              "      <th>Day</th>\n",
              "      <th>comment_count</th>\n",
              "      <th>published Month</th>\n",
              "      <th>published Year</th>\n",
              "      <th>published Day</th>\n",
              "      <th>published Hour</th>\n",
              "      <th>published Second</th>\n",
              "      <th>likes</th>\n",
              "    </tr>\n",
              "  </thead>\n",
              "  <tbody>\n",
              "    <tr>\n",
              "      <th>0</th>\n",
              "      <td>22</td>\n",
              "      <td>5624.0</td>\n",
              "      <td>False</td>\n",
              "      <td>False</td>\n",
              "      <td>440.0</td>\n",
              "      <td>True</td>\n",
              "      <td>8</td>\n",
              "      <td>2020</td>\n",
              "      <td>12</td>\n",
              "      <td>35313.0</td>\n",
              "      <td>8</td>\n",
              "      <td>2020</td>\n",
              "      <td>11</td>\n",
              "      <td>19</td>\n",
              "      <td>14</td>\n",
              "      <td>-3.568105e+07</td>\n",
              "    </tr>\n",
              "    <tr>\n",
              "      <th>1</th>\n",
              "      <td>20</td>\n",
              "      <td>2786.0</td>\n",
              "      <td>False</td>\n",
              "      <td>False</td>\n",
              "      <td>440.0</td>\n",
              "      <td>True</td>\n",
              "      <td>8</td>\n",
              "      <td>2020</td>\n",
              "      <td>12</td>\n",
              "      <td>16549.0</td>\n",
              "      <td>8</td>\n",
              "      <td>2020</td>\n",
              "      <td>11</td>\n",
              "      <td>17</td>\n",
              "      <td>10</td>\n",
              "      <td>-2.514072e+07</td>\n",
              "    </tr>\n",
              "    <tr>\n",
              "      <th>2</th>\n",
              "      <td>24</td>\n",
              "      <td>2622.0</td>\n",
              "      <td>False</td>\n",
              "      <td>False</td>\n",
              "      <td>440.0</td>\n",
              "      <td>True</td>\n",
              "      <td>8</td>\n",
              "      <td>2020</td>\n",
              "      <td>12</td>\n",
              "      <td>40221.0</td>\n",
              "      <td>8</td>\n",
              "      <td>2020</td>\n",
              "      <td>11</td>\n",
              "      <td>16</td>\n",
              "      <td>6</td>\n",
              "      <td>-3.847506e+07</td>\n",
              "    </tr>\n",
              "    <tr>\n",
              "      <th>3</th>\n",
              "      <td>10</td>\n",
              "      <td>1850.0</td>\n",
              "      <td>False</td>\n",
              "      <td>False</td>\n",
              "      <td>440.0</td>\n",
              "      <td>True</td>\n",
              "      <td>8</td>\n",
              "      <td>2020</td>\n",
              "      <td>12</td>\n",
              "      <td>7647.0</td>\n",
              "      <td>8</td>\n",
              "      <td>2020</td>\n",
              "      <td>11</td>\n",
              "      <td>16</td>\n",
              "      <td>55</td>\n",
              "      <td>-1.868959e+07</td>\n",
              "    </tr>\n",
              "    <tr>\n",
              "      <th>4</th>\n",
              "      <td>26</td>\n",
              "      <td>958.0</td>\n",
              "      <td>False</td>\n",
              "      <td>False</td>\n",
              "      <td>440.0</td>\n",
              "      <td>True</td>\n",
              "      <td>8</td>\n",
              "      <td>2020</td>\n",
              "      <td>12</td>\n",
              "      <td>2196.0</td>\n",
              "      <td>8</td>\n",
              "      <td>2020</td>\n",
              "      <td>11</td>\n",
              "      <td>15</td>\n",
              "      <td>5</td>\n",
              "      <td>-1.613948e+07</td>\n",
              "    </tr>\n",
              "  </tbody>\n",
              "</table>\n",
              "</div>\n",
              "      <button class=\"colab-df-convert\" onclick=\"convertToInteractive('df-7294d049-1cf6-4c1d-a955-8a9537a84e7c')\"\n",
              "              title=\"Convert this dataframe to an interactive table.\"\n",
              "              style=\"display:none;\">\n",
              "        \n",
              "  <svg xmlns=\"http://www.w3.org/2000/svg\" height=\"24px\"viewBox=\"0 0 24 24\"\n",
              "       width=\"24px\">\n",
              "    <path d=\"M0 0h24v24H0V0z\" fill=\"none\"/>\n",
              "    <path d=\"M18.56 5.44l.94 2.06.94-2.06 2.06-.94-2.06-.94-.94-2.06-.94 2.06-2.06.94zm-11 1L8.5 8.5l.94-2.06 2.06-.94-2.06-.94L8.5 2.5l-.94 2.06-2.06.94zm10 10l.94 2.06.94-2.06 2.06-.94-2.06-.94-.94-2.06-.94 2.06-2.06.94z\"/><path d=\"M17.41 7.96l-1.37-1.37c-.4-.4-.92-.59-1.43-.59-.52 0-1.04.2-1.43.59L10.3 9.45l-7.72 7.72c-.78.78-.78 2.05 0 2.83L4 21.41c.39.39.9.59 1.41.59.51 0 1.02-.2 1.41-.59l7.78-7.78 2.81-2.81c.8-.78.8-2.07 0-2.86zM5.41 20L4 18.59l7.72-7.72 1.47 1.35L5.41 20z\"/>\n",
              "  </svg>\n",
              "      </button>\n",
              "      \n",
              "  <style>\n",
              "    .colab-df-container {\n",
              "      display:flex;\n",
              "      flex-wrap:wrap;\n",
              "      gap: 12px;\n",
              "    }\n",
              "\n",
              "    .colab-df-convert {\n",
              "      background-color: #E8F0FE;\n",
              "      border: none;\n",
              "      border-radius: 50%;\n",
              "      cursor: pointer;\n",
              "      display: none;\n",
              "      fill: #1967D2;\n",
              "      height: 32px;\n",
              "      padding: 0 0 0 0;\n",
              "      width: 32px;\n",
              "    }\n",
              "\n",
              "    .colab-df-convert:hover {\n",
              "      background-color: #E2EBFA;\n",
              "      box-shadow: 0px 1px 2px rgba(60, 64, 67, 0.3), 0px 1px 3px 1px rgba(60, 64, 67, 0.15);\n",
              "      fill: #174EA6;\n",
              "    }\n",
              "\n",
              "    [theme=dark] .colab-df-convert {\n",
              "      background-color: #3B4455;\n",
              "      fill: #D2E3FC;\n",
              "    }\n",
              "\n",
              "    [theme=dark] .colab-df-convert:hover {\n",
              "      background-color: #434B5C;\n",
              "      box-shadow: 0px 1px 3px 1px rgba(0, 0, 0, 0.15);\n",
              "      filter: drop-shadow(0px 1px 2px rgba(0, 0, 0, 0.3));\n",
              "      fill: #FFFFFF;\n",
              "    }\n",
              "  </style>\n",
              "\n",
              "      <script>\n",
              "        const buttonEl =\n",
              "          document.querySelector('#df-7294d049-1cf6-4c1d-a955-8a9537a84e7c button.colab-df-convert');\n",
              "        buttonEl.style.display =\n",
              "          google.colab.kernel.accessAllowed ? 'block' : 'none';\n",
              "\n",
              "        async function convertToInteractive(key) {\n",
              "          const element = document.querySelector('#df-7294d049-1cf6-4c1d-a955-8a9537a84e7c');\n",
              "          const dataTable =\n",
              "            await google.colab.kernel.invokeFunction('convertToInteractive',\n",
              "                                                     [key], {});\n",
              "          if (!dataTable) return;\n",
              "\n",
              "          const docLinkHtml = 'Like what you see? Visit the ' +\n",
              "            '<a target=\"_blank\" href=https://colab.research.google.com/notebooks/data_table.ipynb>data table notebook</a>'\n",
              "            + ' to learn more about interactive tables.';\n",
              "          element.innerHTML = '';\n",
              "          dataTable['output_type'] = 'display_data';\n",
              "          await google.colab.output.renderOutput(dataTable, element);\n",
              "          const docLink = document.createElement('div');\n",
              "          docLink.innerHTML = docLinkHtml;\n",
              "          element.appendChild(docLink);\n",
              "        }\n",
              "      </script>\n",
              "    </div>\n",
              "  </div>\n",
              "  "
            ],
            "text/plain": [
              "   categoryId  dislikes  ...  published Second         likes\n",
              "0          22    5624.0  ...                14 -3.568105e+07\n",
              "1          20    2786.0  ...                10 -2.514072e+07\n",
              "2          24    2622.0  ...                 6 -3.847506e+07\n",
              "3          10    1850.0  ...                55 -1.868959e+07\n",
              "4          26     958.0  ...                 5 -1.613948e+07\n",
              "\n",
              "[5 rows x 16 columns]"
            ]
          },
          "metadata": {},
          "execution_count": 127
        }
      ]
    },
    {
      "cell_type": "markdown",
      "source": [
        "**Use previous prediction and original target variable \"target'**"
      ],
      "metadata": {
        "id": "fwvEgXRM831h"
      }
    },
    {
      "cell_type": "code",
      "source": [
        "train_data = train_data.drop(['view_count'], axis=1)"
      ],
      "metadata": {
        "id": "MtECQ9slZ1fW"
      },
      "execution_count": 124,
      "outputs": []
    },
    {
      "cell_type": "code",
      "source": [
        "test_data = test_data.drop(['view_count'], axis=1)"
      ],
      "metadata": {
        "id": "Rnx1u000Y0AH"
      },
      "execution_count": 112,
      "outputs": []
    },
    {
      "cell_type": "code",
      "source": [
        "X_train = train_data.drop(['target'], axis = 1)\n",
        "Y_train = train_data['target']\n",
        "X_test = test_data\n",
        "Y_test = train_data['target']\n",
        "X_train.shape, Y_train.shape, X_test.shape, Y_test.shape"
      ],
      "metadata": {
        "colab": {
          "base_uri": "https://localhost:8080/"
        },
        "id": "J8-UAer1Y4-8",
        "outputId": "8398ee3b-b3b0-4f3e-c7fc-0091805f7952"
      },
      "execution_count": 128,
      "outputs": [
        {
          "output_type": "execute_result",
          "data": {
            "text/plain": [
              "((92275, 16), (92275,), (92275, 16), (92275,))"
            ]
          },
          "metadata": {},
          "execution_count": 128
        }
      ]
    },
    {
      "cell_type": "code",
      "source": [
        "model = LinearRegression()\n",
        "model.fit(X_train, Y_train)"
      ],
      "metadata": {
        "colab": {
          "base_uri": "https://localhost:8080/"
        },
        "id": "hfntk_YhY-iZ",
        "outputId": "ffc2f176-d818-4f92-82e4-49e3c87a5ec7"
      },
      "execution_count": 129,
      "outputs": [
        {
          "output_type": "execute_result",
          "data": {
            "text/plain": [
              "LinearRegression()"
            ]
          },
          "metadata": {},
          "execution_count": 129
        }
      ]
    },
    {
      "cell_type": "code",
      "source": [
        "preds = model.predict(X_test)"
      ],
      "metadata": {
        "colab": {
          "base_uri": "https://localhost:8080/"
        },
        "id": "VIS-O5s7Y_tl",
        "outputId": "e076d084-b6d8-4717-fbcc-6001ea2d3a1b"
      },
      "execution_count": 130,
      "outputs": [
        {
          "output_type": "stream",
          "name": "stderr",
          "text": [
            "/usr/local/lib/python3.7/dist-packages/sklearn/base.py:493: FutureWarning: The feature names should match those that were passed during fit. Starting version 1.2, an error will be raised.\n",
            "Feature names must be in the same order as they were in fit.\n",
            "\n",
            "  warnings.warn(message, FutureWarning)\n"
          ]
        }
      ]
    },
    {
      "cell_type": "code",
      "source": [
        "print('Coefficient of determination: %.2f'\n",
        "      % r2_score(Y_test, preds))"
      ],
      "metadata": {
        "colab": {
          "base_uri": "https://localhost:8080/"
        },
        "id": "oD_ku1gpZBBa",
        "outputId": "e0386972-179d-48f5-886c-4566d4f25164"
      },
      "execution_count": 131,
      "outputs": [
        {
          "output_type": "stream",
          "name": "stdout",
          "text": [
            "Coefficient of determination: -743451542.76\n"
          ]
        }
      ]
    },
    {
      "cell_type": "code",
      "source": [
        "xgbr = xgb.XGBRegressor(verbosity=0) \n",
        "print(xgbr)\n",
        "XGBRegressor(base_score=0.5, booster='gbtree', colsample_bylevel=1,\n",
        "       colsample_bynode=1, colsample_bytree=1, gamma=0,\n",
        "       importance_type='gain', learning_rate=0.1, max_delta_step=0,\n",
        "       max_depth=3, min_child_weight=1, missing=None, n_estimators=100,\n",
        "       n_jobs=1, nthread=None, objective='reg:linear', random_state=0,\n",
        "       reg_alpha=0, reg_lambda=1, scale_pos_weight=1, seed=None,\n",
        "       silent=None, subsample=1, verbosity=1)\n",
        "\n",
        "xgbr.fit(X_train, Y_train)"
      ],
      "metadata": {
        "colab": {
          "base_uri": "https://localhost:8080/"
        },
        "id": "7qjgMGhqZChg",
        "outputId": "ec75873b-19aa-46ed-fe99-6e92d9bec3f4"
      },
      "execution_count": 132,
      "outputs": [
        {
          "output_type": "stream",
          "name": "stdout",
          "text": [
            "XGBRegressor(verbosity=0)\n"
          ]
        },
        {
          "output_type": "execute_result",
          "data": {
            "text/plain": [
              "XGBRegressor(verbosity=0)"
            ]
          },
          "metadata": {},
          "execution_count": 132
        }
      ]
    },
    {
      "cell_type": "code",
      "source": [
        "score = xgbr.score(X_train, Y_train)  \n",
        "print(\"Training score: \", score)"
      ],
      "metadata": {
        "colab": {
          "base_uri": "https://localhost:8080/"
        },
        "id": "Ajs2Q1DQZD0-",
        "outputId": "23a831b7-5d81-48ba-bf1b-4b18e4d63a03"
      },
      "execution_count": 133,
      "outputs": [
        {
          "output_type": "stream",
          "name": "stdout",
          "text": [
            "Training score:  0.6575802592923619\n"
          ]
        }
      ]
    }
  ]
}